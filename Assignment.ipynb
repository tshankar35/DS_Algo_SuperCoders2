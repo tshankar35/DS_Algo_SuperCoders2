{
 "cells": [
  {
   "cell_type": "markdown",
   "id": "d8c7dca9",
   "metadata": {},
   "source": [
    "Write a python lambda expression for calculating simple interest.\n",
    "If simple interest is greater than 1000, display as “Platinum Member”, otherwise “Gold Member”.\n",
    "Use the below formula to calculate the simple interest.\n",
    "simple_interest=(principal_amount*duration in years*rate_of_interest)/100"
   ]
  },
  {
   "cell_type": "code",
   "execution_count": 1,
   "id": "f3d16dc0",
   "metadata": {},
   "outputs": [
    {
     "name": "stdout",
     "output_type": "stream",
     "text": [
      "60.0\n"
     ]
    }
   ],
   "source": [
    "k = lambda p,r,t: (p*r*t)/100\n",
    "print(k(120,10,5))"
   ]
  },
  {
   "cell_type": "markdown",
   "id": "8c659803",
   "metadata": {},
   "source": [
    "Write a python lambda expression for the following:\n",
    "1. Find the modulo of two numbers and add it to the difference of the same two numbers.\n",
    "2. Find the square root of a number using math library built-in function.\n",
    "3. Find the square root of a number without using built-in function."
   ]
  },
  {
   "cell_type": "code",
   "execution_count": 2,
   "id": "550af021",
   "metadata": {},
   "outputs": [
    {
     "name": "stdout",
     "output_type": "stream",
     "text": [
      "3\n",
      "2.0\n",
      "2.0\n"
     ]
    }
   ],
   "source": [
    "l1 = lambda a,b: (a-b)+(a%b)\n",
    "print(l1(4,5))\n",
    "\n",
    "import math\n",
    "print(math.sqrt(4))\n",
    "\n",
    "print(4**0.5)"
   ]
  },
  {
   "cell_type": "markdown",
   "id": "394775a7",
   "metadata": {},
   "source": [
    "Write a higher order function, sum_all() to calculate the sum of elements in a list.\n",
    "sum_all() – It accepts a list and calculates the sum of the elements in the list based on the conditions being checked in the lambda expressions passed to it.\n",
    "Only those values satisfying the condition should be included in the sum.\n",
    "Write the following lambda expressions.\n",
    "1. greater: To check whether a given number is greater than 10.\n",
    "2. divide: To check whether a given number is divisible by 10 and not greater than 100.\n",
    "3. range_of_values: To check whether a given number is between 25 and 50 (Both inclusive)."
   ]
  },
  {
   "cell_type": "code",
   "execution_count": 17,
   "id": "66dde061",
   "metadata": {},
   "outputs": [],
   "source": [
    "def sum_all(l):\n",
    "    g  = lambda a: a>10\n",
    "    d = lambda a: a%10==0 and a<=100\n",
    "    rov = lambda a: a>25 and a<=50\n",
    "    s = [i for i in l if g(i)==d(i)==rov(i)==True]\n",
    "    return sum(s)"
   ]
  },
  {
   "cell_type": "code",
   "execution_count": 20,
   "id": "f5d4a99b",
   "metadata": {},
   "outputs": [
    {
     "data": {
      "text/plain": [
       "30"
      ]
     },
     "execution_count": 20,
     "metadata": {},
     "output_type": "execute_result"
    }
   ],
   "source": [
    "sum_all([1,2,3,4,5,6,7,8,9,10,11,12,13,14,15,16,17,18,19,20,21,22,23,24,25,26,27,28,29,30])"
   ]
  },
  {
   "cell_type": "markdown",
   "id": "9be644e2",
   "metadata": {},
   "source": [
    "Consider that the human tower is to be performed on a stage\n",
    "and the stage has a maximum weight limit.\n",
    "Write a python program to find the maximum number of people\n",
    "at the base level such that the total weight of tower does\n",
    "not exceed the \n",
    "maximum weight limit of the stage.\n",
    "Assume that:\n",
    "1. Each person weighs 50 kg\n",
    "2. There will always be odd number of men at the base level\n",
    "of the human tower."
   ]
  }
 ],
 "metadata": {
  "kernelspec": {
   "display_name": "Python 3",
   "language": "python",
   "name": "python3"
  },
  "language_info": {
   "codemirror_mode": {
    "name": "ipython",
    "version": 3
   },
   "file_extension": ".py",
   "mimetype": "text/x-python",
   "name": "python",
   "nbconvert_exporter": "python",
   "pygments_lexer": "ipython3",
   "version": "3.8.8"
  }
 },
 "nbformat": 4,
 "nbformat_minor": 5
}
