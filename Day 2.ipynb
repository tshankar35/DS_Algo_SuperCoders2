{
 "cells": [
  {
   "attachments": {
    "Linkedlist.png": {
     "image/png": "[encoded data removed]"
    }
   },
   "cell_type": "markdown",
   "id": "0111b4ab",
   "metadata": {},
   "source": [
    "# Day 2\n",
    "## Linked Lists\n",
    "\n",
    "![Linkedlist.png](attachment:Linkedlist.png)\n",
    "\n",
    "1. Used when there's data of dynamic size\n",
    "2. Represented by pointer to first node of linked list\n",
    "3. First Node is Head, if linked list is empty, then value of head is Null\n",
    "4. Each Node has atleast 2 parts\n",
    "    1. Data\n",
    "    2. Pointer to Next Node (Class Reference in case of Python\n",
    "    \n",
    "    \n",
    "Types:\n",
    "1. Single Linked List\n",
    "    - Traversal in One Direction\n",
    "    - Insertion or Deletion Begins by Traversing in One Direction"
   ]
  },
  {
   "cell_type": "code",
   "execution_count": 1,
   "id": "8e9f7a14",
   "metadata": {},
   "outputs": [],
   "source": [
    "class Node:\n",
    "    def __init__(self,data=None):\n",
    "        self.data = data\n",
    "        self.next = None\n",
    "\n",
    "class SLinkedList:\n",
    "    def __init__(self):\n",
    "        self.head = None\n",
    "        \n",
    "    def listprint(self,sep=\" \"):\n",
    "        printnode = self.head\n",
    "        while printnode is not None:\n",
    "            print(printnode.data,end=sep)\n",
    "            printnode = printnode.next\n",
    "        else:\n",
    "            print()\n",
    "            \n",
    "    def insertend(self,node):\n",
    "        if self.head == None:\n",
    "            self.head = node\n",
    "            return\n",
    "        lastnode = self.head\n",
    "        while lastnode.next is not None:\n",
    "            lastnode = lastnode.next\n",
    "        lastnode.next  = node\n",
    "    \n",
    "    def insertbeg(self,node):\n",
    "        node.next = self.head\n",
    "        self.head = node\n",
    "            \n",
    "    def insertmid(self,mid,node):\n",
    "        if mid is None:\n",
    "            print(\"Node Does Not Exist\")\n",
    "            return\n",
    "        node.next = mid.next\n",
    "        mid.next = node\n",
    "        \n",
    "    def insertmid_pos(self,pos,node):\n",
    "        headnode = self.head\n",
    "        cnt=0\n",
    "        while cnt<pos and headnode.next is not None:\n",
    "            headnode = headnode.next\n",
    "            cnt+=1\n",
    "        node.next = headnode.next\n",
    "        headnode.next = node\n",
    "        \n",
    "    def insertmid_val(self,val,node):\n",
    "        headnode = self.head\n",
    "        while headnode.next is not None or headnode.data == val:\n",
    "            if headnode.data == val:\n",
    "                node.next = headnode.next\n",
    "                headnode.next = node\n",
    "                break\n",
    "            headnode = headnode.next\n",
    "    \n",
    "    def removenode_key(self,key):\n",
    "        headval = self.head\n",
    "        \n",
    "        if headval is not None:\n",
    "            if headval.data==key:\n",
    "                self.head = headval.next\n",
    "                headval=None\n",
    "                return\n",
    "        \n",
    "        while headval is not None:\n",
    "            if headval.data == key:\n",
    "                break\n",
    "            prev = headval\n",
    "            headval = headval.next\n",
    "            \n",
    "        if headval == None:\n",
    "            return\n",
    "        \n",
    "        prev.next = headval.next\n",
    "        headval = None\n",
    "        \n",
    "    def removenode_start(self):\n",
    "        headval = self.head\n",
    "        self.head = headval.next\n",
    "        headval = None\n",
    "        \n",
    "    def removenode_end(self):\n",
    "        headnode = self.head\n",
    "        while headnode.next is not None:\n",
    "            prev = headnode\n",
    "            headnode = headnode.next\n",
    "        prev.next =  None\n",
    "        headnode = None\n",
    "        \n",
    "    def get_count(self):\n",
    "        if self.head is None:\n",
    "            return 0\n",
    "        n = self.head\n",
    "        count = 0\n",
    "        while n is not None:\n",
    "            count+=1\n",
    "            n=n.next\n",
    "        return count\n",
    "    \n",
    "    def getdata(self,node):\n",
    "        return node.data\n",
    "    \n",
    "    def reverse(self):\n",
    "        prev = None\n",
    "        current = self.head\n",
    "        while current is not None:\n",
    "            next = current.next\n",
    "            current.next = prev\n",
    "            prev = current\n",
    "            current = next\n",
    "        self.head = prev"
   ]
  },
  {
   "cell_type": "markdown",
   "id": "03be6826",
   "metadata": {},
   "source": [
    "## Given 2 Lists, both having integer elements, write a python program using python lists to create and return a new list as per given rule:\n",
    "\n",
    "#### If the double of an element in list1 is present in list2 then add it to the new list.\n",
    "\n",
    "> ### Sample Input\n",
    "> list1 - [11,8,23,7,25,15]\n",
    "> list2 - [6,33,50,31,46,78,16,34]\n",
    "\n",
    "> ### Expected Output\n",
    "> newlist - [8,23,25]"
   ]
  },
  {
   "cell_type": "code",
   "execution_count": 53,
   "id": "19f072cb",
   "metadata": {},
   "outputs": [
    {
     "ename": "KeyboardInterrupt",
     "evalue": "Interrupted by user",
     "output_type": "error",
     "traceback": [
      "\u001b[1;31m---------------------------------------------------------------------------\u001b[0m",
      "\u001b[1;31mKeyboardInterrupt\u001b[0m                         Traceback (most recent call last)",
      "\u001b[1;32m<ipython-input-53-ae7e3c2cd100>\u001b[0m in \u001b[0;36m<module>\u001b[1;34m\u001b[0m\n\u001b[0;32m      4\u001b[0m \u001b[1;33m\u001b[0m\u001b[0m\n\u001b[0;32m      5\u001b[0m \u001b[1;31m#Inserting Element to Linked List\u001b[0m\u001b[1;33m\u001b[0m\u001b[1;33m\u001b[0m\u001b[1;33m\u001b[0m\u001b[0m\n\u001b[1;32m----> 6\u001b[1;33m \u001b[0ml\u001b[0m \u001b[1;33m=\u001b[0m \u001b[0mlist\u001b[0m\u001b[1;33m(\u001b[0m\u001b[0mmap\u001b[0m\u001b[1;33m(\u001b[0m\u001b[0mint\u001b[0m\u001b[1;33m,\u001b[0m\u001b[0minput\u001b[0m\u001b[1;33m(\u001b[0m\u001b[1;33m)\u001b[0m\u001b[1;33m.\u001b[0m\u001b[0msplit\u001b[0m\u001b[1;33m(\u001b[0m\u001b[1;33m)\u001b[0m\u001b[1;33m)\u001b[0m\u001b[1;33m)\u001b[0m\u001b[1;33m\u001b[0m\u001b[1;33m\u001b[0m\u001b[0m\n\u001b[0m\u001b[0;32m      7\u001b[0m \u001b[1;32mfor\u001b[0m \u001b[0mele\u001b[0m \u001b[1;32min\u001b[0m \u001b[0ml\u001b[0m\u001b[1;33m:\u001b[0m\u001b[1;33m\u001b[0m\u001b[1;33m\u001b[0m\u001b[0m\n\u001b[0;32m      8\u001b[0m     \u001b[0mll1\u001b[0m\u001b[1;33m.\u001b[0m\u001b[0minsertend\u001b[0m\u001b[1;33m(\u001b[0m\u001b[0mNode\u001b[0m\u001b[1;33m(\u001b[0m\u001b[0mele\u001b[0m\u001b[1;33m)\u001b[0m\u001b[1;33m)\u001b[0m\u001b[1;33m\u001b[0m\u001b[1;33m\u001b[0m\u001b[0m\n",
      "\u001b[1;32m~\\anaconda3\\lib\\site-packages\\ipykernel\\kernelbase.py\u001b[0m in \u001b[0;36mraw_input\u001b[1;34m(self, prompt)\u001b[0m\n\u001b[0;32m    858\u001b[0m                 \u001b[1;34m\"raw_input was called, but this frontend does not support input requests.\"\u001b[0m\u001b[1;33m\u001b[0m\u001b[1;33m\u001b[0m\u001b[0m\n\u001b[0;32m    859\u001b[0m             )\n\u001b[1;32m--> 860\u001b[1;33m         return self._input_request(str(prompt),\n\u001b[0m\u001b[0;32m    861\u001b[0m             \u001b[0mself\u001b[0m\u001b[1;33m.\u001b[0m\u001b[0m_parent_ident\u001b[0m\u001b[1;33m,\u001b[0m\u001b[1;33m\u001b[0m\u001b[1;33m\u001b[0m\u001b[0m\n\u001b[0;32m    862\u001b[0m             \u001b[0mself\u001b[0m\u001b[1;33m.\u001b[0m\u001b[0m_parent_header\u001b[0m\u001b[1;33m,\u001b[0m\u001b[1;33m\u001b[0m\u001b[1;33m\u001b[0m\u001b[0m\n",
      "\u001b[1;32m~\\anaconda3\\lib\\site-packages\\ipykernel\\kernelbase.py\u001b[0m in \u001b[0;36m_input_request\u001b[1;34m(self, prompt, ident, parent, password)\u001b[0m\n\u001b[0;32m    902\u001b[0m             \u001b[1;32mexcept\u001b[0m \u001b[0mKeyboardInterrupt\u001b[0m\u001b[1;33m:\u001b[0m\u001b[1;33m\u001b[0m\u001b[1;33m\u001b[0m\u001b[0m\n\u001b[0;32m    903\u001b[0m                 \u001b[1;31m# re-raise KeyboardInterrupt, to truncate traceback\u001b[0m\u001b[1;33m\u001b[0m\u001b[1;33m\u001b[0m\u001b[1;33m\u001b[0m\u001b[0m\n\u001b[1;32m--> 904\u001b[1;33m                 \u001b[1;32mraise\u001b[0m \u001b[0mKeyboardInterrupt\u001b[0m\u001b[1;33m(\u001b[0m\u001b[1;34m\"Interrupted by user\"\u001b[0m\u001b[1;33m)\u001b[0m \u001b[1;32mfrom\u001b[0m \u001b[1;32mNone\u001b[0m\u001b[1;33m\u001b[0m\u001b[1;33m\u001b[0m\u001b[0m\n\u001b[0m\u001b[0;32m    905\u001b[0m             \u001b[1;32mexcept\u001b[0m \u001b[0mException\u001b[0m \u001b[1;32mas\u001b[0m \u001b[0me\u001b[0m\u001b[1;33m:\u001b[0m\u001b[1;33m\u001b[0m\u001b[1;33m\u001b[0m\u001b[0m\n\u001b[0;32m    906\u001b[0m                 \u001b[0mself\u001b[0m\u001b[1;33m.\u001b[0m\u001b[0mlog\u001b[0m\u001b[1;33m.\u001b[0m\u001b[0mwarning\u001b[0m\u001b[1;33m(\u001b[0m\u001b[1;34m\"Invalid Message:\"\u001b[0m\u001b[1;33m,\u001b[0m \u001b[0mexc_info\u001b[0m\u001b[1;33m=\u001b[0m\u001b[1;32mTrue\u001b[0m\u001b[1;33m)\u001b[0m\u001b[1;33m\u001b[0m\u001b[1;33m\u001b[0m\u001b[0m\n",
      "\u001b[1;31mKeyboardInterrupt\u001b[0m: Interrupted by user"
     ]
    }
   ],
   "source": [
    "#Initialising 2 Linked List\n",
    "ll1 = SLinkedList()\n",
    "ll2 = SLinkedList()\n",
    "\n",
    "#Inserting Element to Linked List\n",
    "l = list(map(int,input().split()))\n",
    "for ele in l:\n",
    "    ll1.insertend(Node(ele))\n",
    "l = list(map(int,input().split()))\n",
    "for ele in l:\n",
    "    ll2.insertend(Node(ele))\n",
    "    \n",
    "    \n",
    "#Logic to Check if double of an element in list1 is present in list2\n",
    "#def getdata(node) is a userdefined function that returns the data value of current node\n",
    "ll3 = SLinkedList()\n",
    "en = ll1.head\n",
    "while en is not None:\n",
    "    data1 = ll1.getdata(en)\n",
    "    en2 = ll2.head\n",
    "    while en2 is not None:\n",
    "        data2 = ll2.getdata(en2)\n",
    "        if data2 == 2*data1:\n",
    "            ll3.insertend(Node(data1))\n",
    "        en2 = en2.next\n",
    "    en = en.next\n",
    "\n",
    "ll3.listprint()"
   ]
  },
  {
   "cell_type": "markdown",
   "id": "edbff7c8",
   "metadata": {},
   "source": [
    "### A teacher has given a project assignment to a class of 10 students.\n",
    "\n",
    "#### She wants to store the marks (out of 100) scored by each students.\n",
    "The marks scored as mentioned below:\n",
    "89, 78,99,76,77,67,99,98,90\n",
    "\n",
    "<b> Write a python program to store the marks in a list and perfrom the following </b>\n",
    "\n",
    "1. The Teacher Forgot to include the marks of one student. Insert 78 at index position, 8 and display the marks of all 10 students\n",
    "2. The Teacher also wants to know the marks scored by students represented by index positions, 5 and 7"
   ]
  },
  {
   "cell_type": "code",
   "execution_count": 66,
   "id": "ab24f2e0",
   "metadata": {},
   "outputs": [
    {
     "name": "stdout",
     "output_type": "stream",
     "text": [
      "Inserting Data at 8th Index\n",
      "89 78 99 76 77 67 99 98 90 78 \n",
      "Values at Index Position 5 and 7: \n",
      "67 98 "
     ]
    }
   ],
   "source": [
    "#Inserting Elements into list\n",
    "l = [89,78,99,76,77,67,99,98,90]\n",
    "marks = SLinkedList()\n",
    "for ele in l:\n",
    "    marks.insertend(Node(ele))\n",
    "    \n",
    "#Inserting at Index 8\n",
    "print(\"Inserting Data at 8th Index\")\n",
    "marks.insertmid_pos(8, Node(78))\n",
    "marks.listprint()\n",
    "\n",
    "#Display index position 5 and 7\n",
    "print(\"Values at Index Position 5 and 7: \")\n",
    "idx = 0\n",
    "temp = marks.head\n",
    "while temp is not None:\n",
    "    if idx == 5 or idx == 7:\n",
    "        print(marks.getdata(temp),end=\" \")\n",
    "    temp = temp.next\n",
    "    idx+=1"
   ]
  },
  {
   "cell_type": "code",
   "execution_count": 56,
   "id": "30cc7d23",
   "metadata": {},
   "outputs": [
    {
     "name": "stdout",
     "output_type": "stream",
     "text": [
      "89 78 99 76 77 67 99 98 90 78 \n",
      "End of Linked List\n"
     ]
    }
   ],
   "source": []
  },
  {
   "cell_type": "code",
   "execution_count": 24,
   "id": "fb7b1c8e",
   "metadata": {},
   "outputs": [
    {
     "name": "stdout",
     "output_type": "stream",
     "text": [
      "6\n",
      "33\n",
      "50\n",
      "31\n",
      "46\n",
      "78\n",
      "16\n",
      "34\n",
      "End of Linked List\n"
     ]
    }
   ],
   "source": [
    "ll2.listprint()"
   ]
  },
  {
   "cell_type": "code",
   "execution_count": 189,
   "id": "23dc7a1e",
   "metadata": {},
   "outputs": [],
   "source": []
  },
  {
   "cell_type": "code",
   "execution_count": 2,
   "id": "b83ef663",
   "metadata": {},
   "outputs": [],
   "source": [
    "ll = SLinkedList()"
   ]
  },
  {
   "cell_type": "code",
   "execution_count": 3,
   "id": "48568aa7",
   "metadata": {},
   "outputs": [],
   "source": [
    "ll.insertend(Node(4))"
   ]
  },
  {
   "cell_type": "code",
   "execution_count": 4,
   "id": "93440c01",
   "metadata": {},
   "outputs": [],
   "source": [
    "ll.insertend(Node(6))"
   ]
  },
  {
   "cell_type": "code",
   "execution_count": 5,
   "id": "691c6f6c",
   "metadata": {},
   "outputs": [],
   "source": [
    "ll.insertend(Node(1))"
   ]
  },
  {
   "cell_type": "code",
   "execution_count": 6,
   "id": "f12acd66",
   "metadata": {},
   "outputs": [],
   "source": [
    "ll.insertmid_val(6,Node(69))"
   ]
  },
  {
   "cell_type": "code",
   "execution_count": 7,
   "id": "b75d9dbe",
   "metadata": {},
   "outputs": [
    {
     "name": "stdout",
     "output_type": "stream",
     "text": [
      "4 6 69 1 \n"
     ]
    }
   ],
   "source": [
    "ll.listprint()"
   ]
  },
  {
   "cell_type": "code",
   "execution_count": null,
   "id": "727cb798",
   "metadata": {},
   "outputs": [],
   "source": []
  }
 ],
 "metadata": {
  "kernelspec": {
   "display_name": "Python 3",
   "language": "python",
   "name": "python3"
  },
  "language_info": {
   "codemirror_mode": {
    "name": "ipython",
    "version": 3
   },
   "file_extension": ".py",
   "mimetype": "text/x-python",
   "name": "python",
   "nbconvert_exporter": "python",
   "pygments_lexer": "ipython3",
   "version": "3.8.8"
  }
 },
 "nbformat": 4,
 "nbformat_minor": 5
}
