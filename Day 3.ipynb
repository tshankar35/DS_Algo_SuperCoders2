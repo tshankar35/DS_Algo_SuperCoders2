{
 "cells": [
  {
   "attachments": {
    "doubly-linked-list.PNG": {
     "image/png": "[encoded data removed]"
    }
   },
   "cell_type": "markdown",
   "id": "c1361c04",
   "metadata": {},
   "source": [
    "# Double Linked List\n",
    "![doubly-linked-list.PNG](attachment:doubly-linked-list.PNG)\n",
    "\n",
    "\n",
    "### Programs Covered\n",
    "\n",
    "1. Print Double Linked List in Reverse\n",
    "2. Print Double Linked List\n",
    "3. Insert at Beginning\n",
    "4. Insert at End\n",
    "5. Insert at Middle based on Key\n",
    "6. Insert at Middle based on Position\n",
    "7. Delete at Beginning\n",
    "8. Delete at End\n",
    "9. Delete at Middle based on Key\n",
    "10. Delete at Middle based on Position\n",
    "11. Total Number of Nodes\n",
    "12. Removing Duplicates from a Sorted Doubly Linked List"
   ]
  },
  {
   "cell_type": "code",
   "execution_count": 448,
   "id": "c61eed12",
   "metadata": {},
   "outputs": [],
   "source": [
    "class Node:\n",
    "    def __init__(self,data=None):\n",
    "        self.prev = None\n",
    "        self.data = data\n",
    "        self.next = None\n",
    "\n",
    "class DLinkedList:\n",
    "    def __init__(self):\n",
    "        self.head = None\n",
    "        \n",
    "    #Printing\n",
    "    def printlinkedlist(self):\n",
    "        temp = self.head\n",
    "        while temp is not None:\n",
    "            print(temp.data,sep=\",\")\n",
    "            temp = temp.next\n",
    "            \n",
    "    def printlinkedlist_rev(self):\n",
    "        temp = self.head\n",
    "        while temp.next is not None:\n",
    "            temp = temp.next\n",
    "        while temp is not None:\n",
    "            print(temp.data)\n",
    "            temp = temp.prev\n",
    "            \n",
    "    #Insertion\n",
    "    def insertbeginning(self,node):\n",
    "        if self.head == None:\n",
    "            self.head = node\n",
    "        else:\n",
    "            self.head.prev = node\n",
    "            node.next = self.head\n",
    "            self.head = node\n",
    "        \n",
    "    def insertend(self,node):\n",
    "        if self.head is None:\n",
    "            self.head = node\n",
    "            return\n",
    "        temp = self.head\n",
    "        while temp.next is not None:\n",
    "            temp = temp.next\n",
    "        temp.next = node\n",
    "        node.prev = temp\n",
    "        \n",
    "    def insertmid_key(self,key,node):\n",
    "        temp = self.head\n",
    "        while temp.next is not None:\n",
    "            if temp.data==key:\n",
    "                temp = temp.next\n",
    "                node.prev = temp.prev\n",
    "                temp.prev.next = node\n",
    "                node.next = temp\n",
    "                temp.prev = node\n",
    "                return\n",
    "            temp = temp.next\n",
    "        print(\"Key Not Found\")\n",
    "        \n",
    "    \n",
    "    def insertmid_pos(self,pos,node):\n",
    "        temp = self.head\n",
    "        cnt = 0\n",
    "        if temp is None or temp.next is None:\n",
    "            self.insertend(node)\n",
    "            print(\"Specified Index Not Found, Inserting at End\")\n",
    "            return\n",
    "        while cnt<pos and temp is not None:\n",
    "            temp = temp.next\n",
    "            cnt+=1\n",
    "        node.prev = temp.prev\n",
    "        temp.prev.next = node\n",
    "        node.next = temp\n",
    "        temp.prev = node\n",
    "\n",
    "    #Removal\n",
    "    def removebegnning(self):\n",
    "        if self.head is None:\n",
    "            print(\"Linked List Empty\")\n",
    "        elif self.head.next is None:\n",
    "            self.head = None\n",
    "        else:\n",
    "            self.head = self.head.next\n",
    "            self.head.prev = None\n",
    "    \n",
    "    def removeend(self):\n",
    "        if self.head is None:\n",
    "            print(\"List Empty\")\n",
    "        elif self.head .next is None:\n",
    "            self.head = None\n",
    "        else:\n",
    "            curr_head = self.head\n",
    "            while curr_head.next is not None:\n",
    "                curr_head = curr_head.next\n",
    "            curr_head.prev.next = None\n",
    "            curr_head = None\n",
    "        \n",
    "    def remove_key(self,key):\n",
    "        curr_head = self.head\n",
    "        while curr_head is not None:\n",
    "            if curr_head.data == key:\n",
    "                curr_head.prev.next = curr_head.next\n",
    "                if curr_head.next is not None:\n",
    "                    curr_head.next.prev = curr_head.prev\n",
    "                return\n",
    "            curr_head=curr_head.next\n",
    "        print(\"Key Not Found\")\n",
    "                \n",
    "    def remove_pos(self,pos):\n",
    "        if self.head == None:\n",
    "            print(\"Linked List Empty\")\n",
    "        elif pos == 0 :\n",
    "            self.removebegnning()\n",
    "        else:\n",
    "            curr_head = self.head\n",
    "            cnt=0\n",
    "            while curr_head is not None:\n",
    "                if cnt==pos:\n",
    "                    curr_head.prev.next = curr_head.next\n",
    "                    curr_head.next.prev = curr_head.prev\n",
    "                    curr_head = None\n",
    "                    return\n",
    "                cnt+=1\n",
    "                curr_head = curr_head.next\n",
    "            print(\"Position Not Found, Out of Bounds\")\n",
    "            \n",
    "\n",
    "    #Count Number of Nodes\n",
    "    def countnode(self):\n",
    "        cnt=0\n",
    "        curr_head = self.head\n",
    "        while curr_head is not None:\n",
    "            cnt+=1\n",
    "            curr_head = curr_head.next\n",
    "            \n",
    "    #Remove Duplicates (Sorted)\n",
    "    def removedup(self):\n",
    "        curr_head = self.head\n",
    "        while curr_head.next is not None:\n",
    "            if curr_head.data == curr_head.next.data:\n",
    "                curr_head.next = curr_head.next.next\n",
    "                try:\n",
    "                    curr_head.next.next.prev = curr_head\n",
    "                except:\n",
    "                    if curr_head.data == curr_head.next.data:\n",
    "                        curr_head.next = None\n",
    "                continue\n",
    "            curr_head = curr_head.next"
   ]
  },
  {
   "cell_type": "code",
   "execution_count": 449,
   "id": "1b1a4f29",
   "metadata": {},
   "outputs": [],
   "source": [
    "ll = DLinkedList()"
   ]
  },
  {
   "cell_type": "code",
   "execution_count": 456,
   "id": "bc15b867",
   "metadata": {},
   "outputs": [],
   "source": [
    "ll.insertend(Node(10))"
   ]
  },
  {
   "cell_type": "code",
   "execution_count": 459,
   "id": "7de03d95",
   "metadata": {},
   "outputs": [
    {
     "name": "stdout",
     "output_type": "stream",
     "text": [
      "8\n",
      "9\n",
      "10\n"
     ]
    }
   ],
   "source": [
    "ll.printlinkedlist()"
   ]
  },
  {
   "cell_type": "code",
   "execution_count": 458,
   "id": "1592fb35",
   "metadata": {},
   "outputs": [],
   "source": [
    "ll.removedup()"
   ]
  },
  {
   "cell_type": "code",
   "execution_count": 375,
   "id": "029b8f0c",
   "metadata": {},
   "outputs": [],
   "source": [
    "ll.insertbeginning(Node(15))"
   ]
  },
  {
   "cell_type": "code",
   "execution_count": 395,
   "id": "087c3feb",
   "metadata": {},
   "outputs": [
    {
     "name": "stdout",
     "output_type": "stream",
     "text": [
      "5\n",
      "6\n",
      "7\n",
      "8\n"
     ]
    }
   ],
   "source": [
    "ll.printlinkedlist()"
   ]
  },
  {
   "cell_type": "code",
   "execution_count": 356,
   "id": "99722565",
   "metadata": {},
   "outputs": [],
   "source": [
    "ll.insertmid_key(5,Node(60))"
   ]
  },
  {
   "cell_type": "code",
   "execution_count": 357,
   "id": "93e842e0",
   "metadata": {},
   "outputs": [
    {
     "name": "stdout",
     "output_type": "stream",
     "text": [
      "15\n",
      "5\n",
      "60\n",
      "45\n"
     ]
    }
   ],
   "source": [
    "ll.printlinkedlist()"
   ]
  },
  {
   "cell_type": "code",
   "execution_count": 358,
   "id": "27399ea3",
   "metadata": {},
   "outputs": [],
   "source": [
    "ll.insertmid_pos(3,Node(69))"
   ]
  },
  {
   "cell_type": "code",
   "execution_count": 359,
   "id": "d0a16dc5",
   "metadata": {},
   "outputs": [
    {
     "name": "stdout",
     "output_type": "stream",
     "text": [
      "15\n",
      "5\n",
      "60\n",
      "69\n",
      "45\n"
     ]
    }
   ],
   "source": [
    "ll.printlinkedlist()"
   ]
  },
  {
   "cell_type": "code",
   "execution_count": 360,
   "id": "a2b87753",
   "metadata": {},
   "outputs": [],
   "source": [
    "ll.remove_pos(2)"
   ]
  },
  {
   "cell_type": "code",
   "execution_count": 361,
   "id": "4e4d304a",
   "metadata": {},
   "outputs": [
    {
     "name": "stdout",
     "output_type": "stream",
     "text": [
      "15\n",
      "5\n",
      "69\n",
      "45\n"
     ]
    }
   ],
   "source": [
    "ll.printlinkedlist()"
   ]
  },
  {
   "cell_type": "code",
   "execution_count": 362,
   "id": "5a3b3aef",
   "metadata": {},
   "outputs": [],
   "source": [
    "ll.remove_key(45)"
   ]
  },
  {
   "cell_type": "code",
   "execution_count": 363,
   "id": "d3179f90",
   "metadata": {},
   "outputs": [
    {
     "name": "stdout",
     "output_type": "stream",
     "text": [
      "15\n",
      "5\n",
      "69\n"
     ]
    }
   ],
   "source": [
    "ll.printlinkedlist()"
   ]
  },
  {
   "cell_type": "code",
   "execution_count": 288,
   "id": "7e3e3c1e",
   "metadata": {},
   "outputs": [
    {
     "name": "stdout",
     "output_type": "stream",
     "text": [
      "Key Not Found\n"
     ]
    }
   ],
   "source": [
    "ll.remove_key(100)"
   ]
  },
  {
   "cell_type": "code",
   "execution_count": 383,
   "id": "ad046af2",
   "metadata": {},
   "outputs": [
    {
     "ename": "AttributeError",
     "evalue": "'NoneType' object has no attribute 'next'",
     "output_type": "error",
     "traceback": [
      "\u001b[1;31m---------------------------------------------------------------------------\u001b[0m",
      "\u001b[1;31mAttributeError\u001b[0m                            Traceback (most recent call last)",
      "\u001b[1;32m<ipython-input-383-8f075f3f40d9>\u001b[0m in \u001b[0;36m<module>\u001b[1;34m\u001b[0m\n\u001b[1;32m----> 1\u001b[1;33m \u001b[0mll\u001b[0m\u001b[1;33m.\u001b[0m\u001b[0mremovedup\u001b[0m\u001b[1;33m(\u001b[0m\u001b[1;33m)\u001b[0m\u001b[1;33m\u001b[0m\u001b[1;33m\u001b[0m\u001b[0m\n\u001b[0m",
      "\u001b[1;32m<ipython-input-370-362fa547288b>\u001b[0m in \u001b[0;36mremovedup\u001b[1;34m(self)\u001b[0m\n\u001b[0;32m    125\u001b[0m             \u001b[1;32mif\u001b[0m \u001b[0mcurr_head\u001b[0m\u001b[1;33m.\u001b[0m\u001b[0mdata\u001b[0m \u001b[1;33m==\u001b[0m \u001b[0mcurr_head\u001b[0m\u001b[1;33m.\u001b[0m\u001b[0mnext\u001b[0m\u001b[1;33m.\u001b[0m\u001b[0mdata\u001b[0m\u001b[1;33m:\u001b[0m\u001b[1;33m\u001b[0m\u001b[1;33m\u001b[0m\u001b[0m\n\u001b[0;32m    126\u001b[0m                 \u001b[0mcurr_head\u001b[0m\u001b[1;33m.\u001b[0m\u001b[0mnext\u001b[0m \u001b[1;33m=\u001b[0m \u001b[0mcurr_head\u001b[0m\u001b[1;33m.\u001b[0m\u001b[0mnext\u001b[0m\u001b[1;33m.\u001b[0m\u001b[0mnext\u001b[0m\u001b[1;33m\u001b[0m\u001b[1;33m\u001b[0m\u001b[0m\n\u001b[1;32m--> 127\u001b[1;33m                 \u001b[1;32mif\u001b[0m \u001b[0mcurr_head\u001b[0m\u001b[1;33m.\u001b[0m\u001b[0mnext\u001b[0m\u001b[1;33m.\u001b[0m\u001b[0mnext\u001b[0m \u001b[1;32mis\u001b[0m \u001b[1;32mnot\u001b[0m \u001b[1;32mNone\u001b[0m\u001b[1;33m:\u001b[0m\u001b[1;33m\u001b[0m\u001b[1;33m\u001b[0m\u001b[0m\n\u001b[0m\u001b[0;32m    128\u001b[0m                     \u001b[0mcurr_head\u001b[0m\u001b[1;33m.\u001b[0m\u001b[0mnext\u001b[0m\u001b[1;33m.\u001b[0m\u001b[0mnext\u001b[0m\u001b[1;33m.\u001b[0m\u001b[0mprev\u001b[0m \u001b[1;33m=\u001b[0m \u001b[0mcurr_head\u001b[0m\u001b[1;33m\u001b[0m\u001b[1;33m\u001b[0m\u001b[0m\n\u001b[0;32m    129\u001b[0m                 \u001b[1;32melse\u001b[0m\u001b[1;33m:\u001b[0m\u001b[1;33m\u001b[0m\u001b[1;33m\u001b[0m\u001b[0m\n",
      "\u001b[1;31mAttributeError\u001b[0m: 'NoneType' object has no attribute 'next'"
     ]
    }
   ],
   "source": [
    "ll.removedup()"
   ]
  },
  {
   "cell_type": "code",
   "execution_count": 379,
   "id": "7a50cd93",
   "metadata": {},
   "outputs": [],
   "source": [
    "ll.insertend(Node(5))"
   ]
  },
  {
   "cell_type": "code",
   "execution_count": 384,
   "id": "b5fc7268",
   "metadata": {},
   "outputs": [
    {
     "name": "stdout",
     "output_type": "stream",
     "text": [
      "15\n",
      "5\n",
      "45\n",
      "5\n"
     ]
    }
   ],
   "source": [
    "ll.printlinkedlist()"
   ]
  },
  {
   "cell_type": "markdown",
   "id": "2280ce66",
   "metadata": {},
   "source": [
    "## Stacks Postfix Evaluation"
   ]
  },
  {
   "cell_type": "code",
   "execution_count": 483,
   "id": "781d2ac5",
   "metadata": {},
   "outputs": [],
   "source": [
    "class Evaluate:\n",
    "    def __init__(self,size):\n",
    "        self.__maxsize = size\n",
    "        self.__top = -1\n",
    "        self.__stack = [None]*self.__maxsize\n",
    "        \n",
    "    def isfull(self):\n",
    "        if self.__top == self.__maxsize-1:\n",
    "            return True\n",
    "        return False\n",
    "    \n",
    "    def isempty(self):\n",
    "        if self.__top == -1:\n",
    "            return True\n",
    "        return False\n",
    "    \n",
    "    def push(self,ele):\n",
    "        if self.isfull():\n",
    "            print(\"Stack is Full\")\n",
    "        else:\n",
    "            self.__top+=1\n",
    "            self.__stack[self.__top]=ele\n",
    "    def pop(self):\n",
    "        if not self.isempty():\n",
    "            ele = self.__stack[self.__top]\n",
    "            self.__top-=1\n",
    "            return ele\n",
    "        else:\n",
    "            return '$'\n",
    "        \n",
    "    def evaluate(self,expr):\n",
    "        for i in expr:\n",
    "            if i.isdigit():\n",
    "                self.push(i)\n",
    "            else:\n",
    "                op1 = self.pop()\n",
    "                op2 = self.pop()\n",
    "                self.push(str(eval(op2+i+op1)))"
   ]
  },
  {
   "cell_type": "code",
   "execution_count": 485,
   "id": "0cdf6beb",
   "metadata": {},
   "outputs": [
    {
     "data": {
      "text/plain": [
       "'-4'"
      ]
     },
     "execution_count": 485,
     "metadata": {},
     "output_type": "execute_result"
    }
   ],
   "source": [
    "exp = \"231*+9-\"\n",
    "ob = Evaluate(len(exp))\n",
    "ob.evaluate(exp)\n",
    "ob.pop()"
   ]
  },
  {
   "cell_type": "markdown",
   "id": "4eb78316",
   "metadata": {},
   "source": [
    "Given a stack of integers, write a python program that updates the input stack such that all occurences of the smallest values are at the bottom of the stack, while the order of other elements remain the same\n",
    "\n",
    "For Example:\n",
    ">Input Stack (top-bottom) : 5 66 5 8 7\n",
    "\n",
    ">Output:  66 8 7 5 5"
   ]
  },
  {
   "cell_type": "code",
   "execution_count": 1,
   "id": "e356b014",
   "metadata": {},
   "outputs": [],
   "source": [
    "class Stack:\n",
    "    def __init__(self,maxsize):\n",
    "        self.__maxsize = maxsize\n",
    "        self.__stack = [None]*self.__maxsize\n",
    "        self.__top = -1\n",
    "    \n",
    "    def isfull(self):\n",
    "        if self.__top == self.__maxsize-1:\n",
    "            return True\n",
    "        return False\n",
    "    \n",
    "    def isempty(self):\n",
    "        if self.__top==-1:\n",
    "            self.__stack = [None]*self.__maxsize\n",
    "            self.__top = -1\n",
    "            return True\n",
    "        return False\n",
    "    \n",
    "    def push(self,ele):\n",
    "        if self.isfull():\n",
    "            print(\"Stack Full\")\n",
    "            return\n",
    "        else:\n",
    "            self.__top+=1\n",
    "            self.__stack[self.__top]=ele\n",
    "    \n",
    "    def pop(self):\n",
    "        if self.isempty():\n",
    "            print(\"Stack Empty\")\n",
    "        \n",
    "        else:\n",
    "            ele = self.__stack[self.__top]\n",
    "            self.__top-=1\n",
    "            return ele\n",
    "        \n",
    "    def peek(self):\n",
    "        if self.isempty():\n",
    "            return\n",
    "        return self.__stack[self.__top]\n",
    "        \n",
    "    def printl(self):\n",
    "        if self.isempty():\n",
    "            return\n",
    "        return self.__stack[self.__top::-1]"
   ]
  },
  {
   "cell_type": "code",
   "execution_count": 2,
   "id": "ae8eb77b",
   "metadata": {},
   "outputs": [],
   "source": [
    "inp_stck = Stack(5)\n",
    "inp_stck.push(5)\n",
    "inp_stck.push(66)\n",
    "inp_stck.push(5)\n",
    "inp_stck.push(7)\n",
    "inp_stck.push(8)"
   ]
  },
  {
   "cell_type": "code",
   "execution_count": 3,
   "id": "cf5aed9f",
   "metadata": {},
   "outputs": [
    {
     "data": {
      "text/plain": [
       "[66, 8, 7, 5, 5]"
      ]
     },
     "execution_count": 3,
     "metadata": {},
     "output_type": "execute_result"
    }
   ],
   "source": [
    "#Sorting Stack\n",
    "temp_stck = Stack(5)\n",
    "while inp_stck.isempty()==False:\n",
    "    temp = inp_stck.pop()\n",
    "    while temp_stck.isempty() == False and temp_stck.peek()>temp:\n",
    "        inp_stck.push(temp_stck.pop())\n",
    "    temp_stck.push(temp)\n",
    "temp_stck.printl()"
   ]
  },
  {
   "cell_type": "markdown",
   "id": "37d53e90",
   "metadata": {},
   "source": [
    "### Consider a Car Class as given in the code. Write a Service Class as given in the class diagram below which performs various activities on a list of cars.\n",
    "\n",
    "Assume that the car_list is sorted by year in ascending order"
   ]
  },
  {
   "cell_type": "raw",
   "id": "d45d88ee",
   "metadata": {},
   "source": [
    "Service\n",
    "\n",
    "car_list\n",
    "__init__(car_list)\n",
    "get_car_list()\n",
    "find_cars_by_year(year)\n",
    "add_cars(new_car_list)\n",
    "remove_cars_from_karnataka()"
   ]
  },
  {
   "cell_type": "markdown",
   "id": "071e7339",
   "metadata": {},
   "source": [
    "Method Description\n",
    "\n",
    "1. init(car_list)\n",
    "    - Initialises the instance variable, car_list\n",
    "2. find_cars_by_year(year)\n",
    "    - Finds and Returns the List of Models of all cars with the year as the one passed as the argument.\n",
    "    \n",
    "3. add_cars(new_car_list)\n",
    "    - The new_car_list should be added to the instance variable car_list\n",
    "    - The car_list should be still sorted such that years are in ascending order\n",
    "\n",
    "4. remove_cars_from_karnaktaka()\n",
    "    - Finds and removes all cars with the registration number, beginning with \"KA\" from the car_list"
   ]
  },
  {
   "cell_type": "code",
   "execution_count": 123,
   "id": "9f73a98e",
   "metadata": {},
   "outputs": [],
   "source": [
    "class Car:\n",
    "    def __init__(self):\n",
    "        self.__d={}\n",
    "    \n",
    "    def put(self,model,year,reg):\n",
    "        try:\n",
    "            self.__d[year][reg]=model\n",
    "        except:\n",
    "            self.__d.update({year:{reg:model}})\n",
    "    def get(self):\n",
    "        return self.__d\n",
    "            \n",
    "            "
   ]
  },
  {
   "cell_type": "code",
   "execution_count": 131,
   "id": "48a986e3",
   "metadata": {},
   "outputs": [],
   "source": [
    "class Service(Car):\n",
    "    def __init__(self,car_list):\n",
    "        self.__car_list = car_list\n",
    "        Car.__init__(self)\n",
    "        \n",
    "    def find_cars_by_year(self,year):\n",
    "        try:\n",
    "            print(*list(self.__car_list[year].values()))\n",
    "        except:\n",
    "            print(\"Key Error\")\n",
    "    \n",
    "    def add_car(car_list):\n",
    "        super().put(car_list['model'],car_list['year'],car_list['reg'])\n",
    "        \n",
    "    def remove_cars_from_karanataka(self):\n",
    "        l=[]\n",
    "        for year in self.__car_list.keys():\n",
    "            for reg in self.__car_list[year].keys():\n",
    "                if 'KA' in reg:\n",
    "                    l.append({year:reg})\n",
    "        for ele in l:\n",
    "            for key,val in ele:\n",
    "                del self.__car_list[key][val]\n",
    "        return self.__car_list\n",
    "    "
   ]
  },
  {
   "cell_type": "code",
   "execution_count": 132,
   "id": "c1cd4bf7",
   "metadata": {},
   "outputs": [],
   "source": [
    "d = Car()"
   ]
  },
  {
   "cell_type": "code",
   "execution_count": 133,
   "id": "7f79a7ff",
   "metadata": {},
   "outputs": [],
   "source": [
    "d.put('Maruti',2002,'KA023')\n",
    "d.put('Maruti',2003,'KA020')\n",
    "d.put('Honda',2003,'KA021')\n",
    "d.put('Honda',2003,'KA024')"
   ]
  },
  {
   "cell_type": "code",
   "execution_count": 134,
   "id": "0d65d161",
   "metadata": {},
   "outputs": [
    {
     "data": {
      "text/plain": [
       "{2002: {'KA023': 'Maruti'},\n",
       " 2003: {'KA020': 'Maruti', 'KA021': 'Honda', 'KA024': 'Honda'}}"
      ]
     },
     "execution_count": 134,
     "metadata": {},
     "output_type": "execute_result"
    }
   ],
   "source": [
    "d.get()"
   ]
  },
  {
   "cell_type": "code",
   "execution_count": 135,
   "id": "362cf8af",
   "metadata": {},
   "outputs": [
    {
     "name": "stdout",
     "output_type": "stream",
     "text": [
      "Maruti Honda Honda\n"
     ]
    }
   ],
   "source": [
    "s = Service(d.get())\n",
    "s.find_cars_by_year(2003)"
   ]
  },
  {
   "cell_type": "code",
   "execution_count": 136,
   "id": "9606a99c",
   "metadata": {},
   "outputs": [
    {
     "ename": "TypeError",
     "evalue": "cannot unpack non-iterable int object",
     "output_type": "error",
     "traceback": [
      "\u001b[1;31m---------------------------------------------------------------------------\u001b[0m",
      "\u001b[1;31mTypeError\u001b[0m                                 Traceback (most recent call last)",
      "\u001b[1;32m<ipython-input-136-7cee70626efd>\u001b[0m in \u001b[0;36m<module>\u001b[1;34m\u001b[0m\n\u001b[1;32m----> 1\u001b[1;33m \u001b[0ms\u001b[0m\u001b[1;33m.\u001b[0m\u001b[0mremove_cars_from_karanataka\u001b[0m\u001b[1;33m(\u001b[0m\u001b[1;33m)\u001b[0m\u001b[1;33m\u001b[0m\u001b[1;33m\u001b[0m\u001b[0m\n\u001b[0m",
      "\u001b[1;32m<ipython-input-131-b080a50ae451>\u001b[0m in \u001b[0;36mremove_cars_from_karanataka\u001b[1;34m(self)\u001b[0m\n\u001b[0;32m     20\u001b[0m                     \u001b[0ml\u001b[0m\u001b[1;33m.\u001b[0m\u001b[0mappend\u001b[0m\u001b[1;33m(\u001b[0m\u001b[1;33m{\u001b[0m\u001b[0myear\u001b[0m\u001b[1;33m:\u001b[0m\u001b[0mreg\u001b[0m\u001b[1;33m}\u001b[0m\u001b[1;33m)\u001b[0m\u001b[1;33m\u001b[0m\u001b[1;33m\u001b[0m\u001b[0m\n\u001b[0;32m     21\u001b[0m         \u001b[1;32mfor\u001b[0m \u001b[0mele\u001b[0m \u001b[1;32min\u001b[0m \u001b[0ml\u001b[0m\u001b[1;33m:\u001b[0m\u001b[1;33m\u001b[0m\u001b[1;33m\u001b[0m\u001b[0m\n\u001b[1;32m---> 22\u001b[1;33m             \u001b[1;32mfor\u001b[0m \u001b[0mkey\u001b[0m\u001b[1;33m,\u001b[0m\u001b[0mval\u001b[0m \u001b[1;32min\u001b[0m \u001b[0mele\u001b[0m\u001b[1;33m:\u001b[0m\u001b[1;33m\u001b[0m\u001b[1;33m\u001b[0m\u001b[0m\n\u001b[0m\u001b[0;32m     23\u001b[0m                 \u001b[1;32mdel\u001b[0m \u001b[0mself\u001b[0m\u001b[1;33m.\u001b[0m\u001b[0m__car_list\u001b[0m\u001b[1;33m[\u001b[0m\u001b[0mkey\u001b[0m\u001b[1;33m]\u001b[0m\u001b[1;33m[\u001b[0m\u001b[0mval\u001b[0m\u001b[1;33m]\u001b[0m\u001b[1;33m\u001b[0m\u001b[1;33m\u001b[0m\u001b[0m\n\u001b[0;32m     24\u001b[0m         \u001b[1;32mreturn\u001b[0m \u001b[0mself\u001b[0m\u001b[1;33m.\u001b[0m\u001b[0m__car_list\u001b[0m\u001b[1;33m\u001b[0m\u001b[1;33m\u001b[0m\u001b[0m\n",
      "\u001b[1;31mTypeError\u001b[0m: cannot unpack non-iterable int object"
     ]
    }
   ],
   "source": [
    "s.remove_cars_from_karanataka()"
   ]
  },
  {
   "cell_type": "code",
   "execution_count": null,
   "id": "2e93a3a3",
   "metadata": {},
   "outputs": [],
   "source": []
  }
 ],
 "metadata": {
  "kernelspec": {
   "display_name": "Python 3",
   "language": "python",
   "name": "python3"
  },
  "language_info": {
   "codemirror_mode": {
    "name": "ipython",
    "version": 3
   },
   "file_extension": ".py",
   "mimetype": "text/x-python",
   "name": "python",
   "nbconvert_exporter": "python",
   "pygments_lexer": "ipython3",
   "version": "3.8.8"
  }
 },
 "nbformat": 4,
 "nbformat_minor": 5
}
