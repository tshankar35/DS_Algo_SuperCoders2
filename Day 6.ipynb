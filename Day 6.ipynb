{
 "cells": [
  {
   "cell_type": "markdown",
   "id": "9c6bad63",
   "metadata": {},
   "source": [
    "# Day 6\n",
    "\n",
    "## Selection Sort"
   ]
  },
  {
   "cell_type": "code",
   "execution_count": 17,
   "id": "36517d9c",
   "metadata": {},
   "outputs": [],
   "source": [
    "def selectionSort(array,size):\n",
    "    for step in range(size):\n",
    "        min_idx = step\n",
    "        for i in range((step+1),size):\n",
    "            #to select minimum element in each loop\n",
    "            if array[i] < array[min_idx]:\n",
    "                min_idx=i\n",
    "        \n",
    "        #put min at thecurrent position\n",
    "        (array[step],array[min_idx]) = (array[min_idx],array[step])"
   ]
  },
  {
   "cell_type": "code",
   "execution_count": 18,
   "id": "47ab6f84",
   "metadata": {},
   "outputs": [
    {
     "name": "stdout",
     "output_type": "stream",
     "text": [
      "Sorted Array in Ascending Order: \n",
      "[2, 10, 12, 15, 20]\n"
     ]
    }
   ],
   "source": [
    "data = [20,12,10,15,2]\n",
    "size = len(data)\n",
    "selectionSort(data,size)\n",
    "print(\"Sorted Array in Ascending Order: \")\n",
    "print(data)"
   ]
  },
  {
   "cell_type": "markdown",
   "id": "98360961",
   "metadata": {},
   "source": [
    "Coorg Fruit Farm is a retail chain which sells fruits grown in their orchards in Coorg, India.40 min\n",
    "They want to keep track of customers who buy fruits from them and also the billing process.\n",
    "\n",
    "\n",
    "Write a python program to implement the class diagram given below.\n",
    "\n",
    "RULES TO FOLLOW\n",
    "=================\n",
    "Class Description:\n",
    "Fruit Info class:\n",
    "fruit_name_list: Static list which contains the list of fruits available\n",
    "fruit_price_list: Static list which contains the price/kg of fruits\n",
    "The above two lists have one-to-one correspondence, initialize it with the data given in the table\n",
    "get_fruit_price(fruit_name): Accept a fruit name and return its price/kg. If fruit is not available, return -1\n",
    "\n",
    "Fruit Name\tApple\tGuava\tOrange\tGrape\tSweet Lime\n",
    "Price per Kg\t200\t80\t70\t110\t60Purchase class:\n",
    "Initialize static variable counter to 101\n",
    "calculate_price(): Calculate and return total fruit price based on rules given below\n",
    "For valid fruit name (hint: invoke get_fruit_price(fruit_name)),\n",
    "Calculate price based on price/kg and quantity of the fruit purchased by the customer\n",
    "If price/kg of the fruit is maximum among the fruits in fruit lists and quantity purchased is more than 1kg, apply 2% discount on calculated price\n",
    "If price/kg of the fruit is minimum among the fruits in fruit lists and quantity purchased is 5kg or more, apply 5% discount on calculated price\n",
    "If the customer is a \"wholesale\" customer, provide an additional 10% discount. Apply this discount on already discounted price, \n",
    "if any one of the above two points are applicable. Else apply it on calculated price\n",
    "Auto-generate purchase id starting from 101 prefixed by “P”. Example – P101,P102 P103 etc.\n",
    "Return final fruit price\n",
    "Else, return -1.\n",
    "Note:\n",
    "Perform case sensitive string comparison \n",
    "There will be only one fruit with maximum price and one with minimum price\n",
    "\n",
    "For testing:\n",
    "Create objects of Customer and Purchase class\n",
    "Invoke calculate_price() on Purchase object\n",
    "Display the details"
   ]
  },
  {
   "cell_type": "code",
   "execution_count": null,
   "id": "d3a1acc8",
   "metadata": {},
   "outputs": [],
   "source": [
    "class CoorgFruit:\n",
    "    def __init__"
   ]
  },
  {
   "cell_type": "markdown",
   "id": "3545ba91",
   "metadata": {},
   "source": [
    "Softsytems Ltd is a private firm that provides software solutions to its customers.40 min\n",
    "The management wants to calculate salary for the employees. There are two types of employees namely graduates \n",
    "who are in probation period and laterals who are experienced joiners in the company. \n",
    "Write a python program based on the class diagram given below.\n",
    "\n",
    "RULES TO FOLLOW\n",
    "===================\n",
    "Class Description:\n",
    "Employee class:\n",
    "validate_basic_salary(): Basic salary of an employee is always more than 3000\n",
    "If basic salary is valid, return true. Else return false\n",
    "validate_qualification(): Employee should posses either a \"Bachelors\" or \"Masters\" degree\n",
    "If qualification is valid, return true. Else return false\n",
    "Graduate class:\n",
    "validate_job_band(): Graduates can be in \"A\", \"B\" or \"C\" job band\n",
    "If job band is valid, return true. Else return false\n",
    "calculate_gross_salary(): Calculate gross salary\n",
    "Validate basic salary, qualification and job band\n",
    "If valid,\n",
    "Compute gross salary as basic salary + PF+ TPI amount + incentive\n",
    "    PF is 12% of basic salary\n",
    "    Identify TPI amount based on cgpa\n",
    "    Identify incentive based on job band. Incentive should be applied on basic\n",
    "    salary (Refer tables given)\n",
    "Return gross salary\n",
    "Else return -1\n",
    "Job Band\tA\tB\tC\tD\tE\tF\n",
    "Incentive %\t4\t6\t10\t13\t16\t20\n",
    "\n",
    "CGPA\t4 to 4.25\t4.26 to 4.5\t4.51 to 4.75\t4.76 to 5\n",
    "TPI Amount\t1000\t1700\t3200\t5000\n",
    "Lateral class:\n",
    "validate_job_band(): Laterals can be in \"D\", \"E\" or \"F\" job band\n",
    "If job band is valid, return true. Else return false\n",
    "calculate_gross_salary(): Calculate gross salary\n",
    "Validate basic salary, qualification and job band\n",
    "If valid,\n",
    "Compute gross salary as basic salary + PF + SME bonus + incentive\n",
    "    PF is 12% of basic salary\n",
    "    Identify SME bonus based on skill set\n",
    "    Identify incentive based on job band. Incentive should be applied on basic salary (Refer\n",
    "    tables given)\n",
    "Return gross salary\n",
    "Skill Set\tSME Bonus\n",
    "AGP\t6500\n",
    "AGPT\t8200\n",
    "AGDEV\t11500\n",
    "Else return -1\n",
    "Perform case sensitive string comparison.\n",
    "For testing:\n",
    "Create objects of Graduate and Lateral classes\n",
    "Invoke calculate_gross_salary() on Graduate and Lateral objects\n",
    "Display the details"
   ]
  },
  {
   "cell_type": "code",
   "execution_count": 20,
   "id": "f957ed11",
   "metadata": {},
   "outputs": [],
   "source": [
    "class Employee:\n",
    "    def __init__(self,basic_salary,qualification):\n",
    "        self.__basic_salary = basic_salary\n",
    "        self.__qualification = qualification\n",
    "        \n",
    "    def validate_basic_salary(self):\n",
    "        if self.__basic_salary>3000:\n",
    "            return True\n",
    "        return False\n",
    "    \n",
    "    def validate_qualification(self):\n",
    "        if self.__qualification == 'Bachelors' or self.__qualification == 'Masters':\n",
    "            return True\n",
    "        return False"
   ]
  },
  {
   "cell_type": "code",
   "execution_count": null,
   "id": "8cc62d9c",
   "metadata": {},
   "outputs": [],
   "source": [
    "class Graduate(Employee):\n",
    "    def __init__(self,)"
   ]
  },
  {
   "cell_type": "code",
   "execution_count": null,
   "id": "9f065ca0",
   "metadata": {},
   "outputs": [],
   "source": []
  },
  {
   "cell_type": "code",
   "execution_count": null,
   "id": "9843666e",
   "metadata": {},
   "outputs": [],
   "source": []
  },
  {
   "cell_type": "markdown",
   "id": "c7aa59f0",
   "metadata": {},
   "source": [
    "The owner of a BakeHouse wants to keep track of the tables \n",
    "that are occupied in his cafe. Assume that there are 10 tables in his cafe numbered from 1 to 10. As and when a table is occupied, it must be added to the occupied_table_list and when a customer leaves, the corresponding table must be removed from the list.\n",
    "\n",
    "BakeHouse\n",
    "- occupied_table_list\n",
    "_init_()\n",
    "+ get_occupied_table_list()\n",
    "+ allocate_table()\n",
    "+ deallocate_table(table_number)\n",
    "Write a python program to implement BakeHouse class. \n",
    "Represent occupied_table_list using an appropriate data \n",
    "structure.\n",
    "\n",
    "\n",
    "Note: Table numbers should be maintained in ascending order in the occupied_table_list.\n",
    "\n",
    "\n",
    "Tables should be allocated and de-allocated as mentioned in the example below:\n",
    "\n",
    "Example: Suppose tables 1, 2, 3 and 4 are initially allocated. Now if a new customer arrives, he should be allocated table 5 and the table list should be accordingly updated. If now customer at table 2 leaves, table list should be accordingly updated and the next new customer should be allocated table 2 as it is the first free table.\n",
    "\n",
    "\n",
    "Implement the allocation logic in allocate_table() method and de-allocation logic in deallocate_table() method.\n",
    "-------------------------------------------------------\n",
    "10.Write a python program to reverse a linked list containing \n",
    "integer data.\n",
    "Use the LinkedList class and methods in it to implement the\n",
    " above program."
   ]
  },
  {
   "cell_type": "code",
   "execution_count": 3,
   "id": "3ccc3c50",
   "metadata": {},
   "outputs": [],
   "source": [
    "class Table:\n",
    "    def __init__(self,number):\n",
    "        self.data=number\n",
    "        self.next=None\n",
    "\n",
    "class BakeHouse:\n",
    "    def __init__(self):\n",
    "        self.head = None\n",
    "        \n",
    "    def get_occupied_table_list(self):\n",
    "        if self.head is None:\n",
    "            print(\"Restaurant Empty\")\n",
    "            return\n",
    "        l = []\n",
    "        temp = self.head\n",
    "        while temp is not None:\n",
    "            l.append(temp.data)\n",
    "            temp = temp.next\n",
    "        return l\n",
    "    \n",
    "    def deallocate_table_number(self,table_number):\n",
    "        if self.head is None:\n",
    "            print(\"Restaurant Empty\")\n",
    "            return\n",
    "        temp = self.head\n",
    "        while temp is not None:\n",
    "            if temp.data != table_number:\n",
    "                prev = temp\n",
    "                temp = temp.next\n",
    "            else:\n",
    "                if temp.next is None:\n",
    "                    prev.next = None\n",
    "                    temp = None\n",
    "                    return\n",
    "                elif temp.next is not None:\n",
    "                    prev.next = temp.next\n",
    "                    temp = None\n",
    "                    return\n",
    "        print(\"Table Not Found\")\n",
    "    \n",
    "    def allocate_table(self):\n",
    "        if self.head is None:\n",
    "            self.head = Table(1)\n",
    "            return\n",
    "        l = self.get_occupied_table_list()\n",
    "        k = 0\n",
    "        for i in range(1,11):\n",
    "            if i not in l:\n",
    "                k = i\n",
    "                break\n",
    "        temp = self.head\n",
    "        while temp is not None:\n",
    "            if temp.data != k-1:\n",
    "                temp = temp.next\n",
    "            else:       \n",
    "                if temp.next is None:\n",
    "                    temp.next = Table(k)\n",
    "                    return\n",
    "                else:\n",
    "                    node = Table(k)\n",
    "                    node.next = temp.next\n",
    "                    temp.next = node\n",
    "                    return\n",
    "        \n",
    "            "
   ]
  },
  {
   "cell_type": "code",
   "execution_count": null,
   "id": "3fa28c84",
   "metadata": {},
   "outputs": [],
   "source": []
  },
  {
   "cell_type": "code",
   "execution_count": 4,
   "id": "0bb40882",
   "metadata": {},
   "outputs": [],
   "source": [
    "b = BakeHouse()"
   ]
  },
  {
   "cell_type": "code",
   "execution_count": 5,
   "id": "2cb1b4f0",
   "metadata": {},
   "outputs": [
    {
     "data": {
      "text/plain": [
       "[1]"
      ]
     },
     "execution_count": 5,
     "metadata": {},
     "output_type": "execute_result"
    }
   ],
   "source": [
    "b.allocate_table()\n",
    "b.get_occupied_table_list()"
   ]
  },
  {
   "cell_type": "code",
   "execution_count": 6,
   "id": "a3be099e",
   "metadata": {},
   "outputs": [
    {
     "name": "stdout",
     "output_type": "stream",
     "text": [
      "Table Not Found\n"
     ]
    }
   ],
   "source": [
    "b.deallocate_table_number(3)"
   ]
  },
  {
   "cell_type": "code",
   "execution_count": 7,
   "id": "e1896e44",
   "metadata": {},
   "outputs": [
    {
     "data": {
      "text/plain": [
       "[1]"
      ]
     },
     "execution_count": 7,
     "metadata": {},
     "output_type": "execute_result"
    }
   ],
   "source": [
    "b.get_occupied_table_list()"
   ]
  },
  {
   "cell_type": "markdown",
   "id": "14b54011",
   "metadata": {},
   "source": [
    "A teacher is conducting a camp for a group of five children.\n",
    " Based on their performance and behavior during the camp, the\n",
    " teacher rewards them with chocolates.\n",
    "Write a Python function to Find the total number of chocolates\n",
    "received by all the children put together.\n",
    "Assume that each child is identified by an id and it is stored\n",
    " in a tuple and the number of chocolates given to each child\n",
    " is stored in a list.\n",
    "The teacher also rewards a child with few extra chocolates \n",
    "for his/her best conduct during the camp.\n",
    "If the number of extra chocolates is less than 1, an error \n",
    "message \"Extra chocolates is less than 1\", should be \n",
    "displayed.\n",
    "If the given child Id is invalid, an error message \n",
    "\"Child id is invalid\" should be displayed. Otherwise,\n",
    " the extra chocolates \n",
    "provided for the child must be added to his/her existing \n",
    "number of chocolates and display the list containing the\n",
    " total number of chocolates received by each child.\n",
    "\n",
    "\n",
    "child_id=(10,20,30,40,50)\n",
    "chocolates_received=[12,5,3,4,6]\n",
    "\n",
    "functions\n",
    "\n",
    "calculate_total_chocolates()\n",
    "\n",
    "reward_child(child_id_rewarded,extra_chocolates)"
   ]
  },
  {
   "cell_type": "code",
   "execution_count": 17,
   "id": "d7dcfc41",
   "metadata": {},
   "outputs": [
    {
     "name": "stdout",
     "output_type": "stream",
     "text": [
      "10 20 30 40 50\n",
      "12 5 3 4 6\n"
     ]
    }
   ],
   "source": [
    "child_id = tuple(map(int,input().split()))\n",
    "chocolates_received = list(map(int,input().split()))\n",
    "def calculate_total_chocolates():\n",
    "    return sum(chocolates_received)\n",
    "\n",
    "def reward_child(child_id_rewarded,extra_chocolates):\n",
    "    if extra_chocolates < 1:\n",
    "        return \"Extra Chocolates is less than 1\"\n",
    "    elif child_id_rewarded not in child_id:\n",
    "        return \"Child ID is Invalid\"\n",
    "    else:\n",
    "        index = child_id.index(child_id_rewarded)\n",
    "        chocolates_received[index]+=extra_chocolates"
   ]
  },
  {
   "cell_type": "code",
   "execution_count": 18,
   "id": "6caf4666",
   "metadata": {},
   "outputs": [
    {
     "data": {
      "text/plain": [
       "30"
      ]
     },
     "execution_count": 18,
     "metadata": {},
     "output_type": "execute_result"
    }
   ],
   "source": [
    "calculate_total_chocolates()"
   ]
  },
  {
   "cell_type": "code",
   "execution_count": 19,
   "id": "88fec0e3",
   "metadata": {},
   "outputs": [],
   "source": [
    "reward_child(20,10)"
   ]
  },
  {
   "cell_type": "code",
   "execution_count": 20,
   "id": "7c67564c",
   "metadata": {},
   "outputs": [
    {
     "data": {
      "text/plain": [
       "[12, 15, 3, 4, 6]"
      ]
     },
     "execution_count": 20,
     "metadata": {},
     "output_type": "execute_result"
    }
   ],
   "source": [
    "chocolates_received"
   ]
  },
  {
   "cell_type": "markdown",
   "id": "3929d4ef",
   "metadata": {},
   "source": [
    "Write a python program to help an airport manager to generate\n",
    " few statistics based on the ticket details available for a \n",
    "day.\n",
    "Go through the below program and complete it based on the comments mentioned in it.\n",
    "Note: Perform case sensitive string comparisons wherever necessary.\n",
    "'''\n",
    "print(find_passengers_flight(\"AI\"))\n",
    "print(find_passengers_destination(\"LON\"))\n",
    "#find_passengers_per_flight()\n",
    "print(sort_passenger_list())\n",
    "\n",
    "\n",
    "#Sample ticket list - ticket format: \"flight_no:source:destination:ticket_no\"\n",
    "#Note: flight_no has the following format - \"airline_name followed by three digit number\n",
    "\n",
    "#Global variable\n",
    "ticket_list=[\"AI567:MUM:LON:014\",\"AI077:MUM:LON:056\", \"BA896:MUM:LON:067\", \"SI267:MUM:SIN:145\",\"AI077:MUM:CAN:060\",\"SI267:BLR:MUM:148\",\"AI567:CHE:SIN:015\",\"AI077:MUM:SIN:050\",\"AI077:MUM:LON:051\",\"SI267:MUM:SIN:146\"]"
   ]
  },
  {
   "cell_type": "code",
   "execution_count": 21,
   "id": "b565acbc",
   "metadata": {},
   "outputs": [],
   "source": [
    "ticket_list = ticket_list=[\"AI567:MUM:LON:014\",\"AI077:MUM:LON:056\", \"BA896:MUM:LON:067\", \"SI267:MUM:SIN:145\",\"AI077:MUM:CAN:060\",\"SI267:BLR:MUM:148\",\"AI567:CHE:SIN:015\",\"AI077:MUM:SIN:050\",\"AI077:MUM:LON:051\",\"SI267:MUM:SIN:146\"]"
   ]
  },
  {
   "cell_type": "code",
   "execution_count": 23,
   "id": "fc297feb",
   "metadata": {},
   "outputs": [
    {
     "name": "stdout",
     "output_type": "stream",
     "text": [
      "[['AI567', 'MUM', 'LON', '014'], ['AI077', 'MUM', 'LON', '056'], ['BA896', 'MUM', 'LON', '067'], ['SI267', 'MUM', 'SIN', '145'], ['AI077', 'MUM', 'CAN', '060'], ['SI267', 'BLR', 'MUM', '148'], ['AI567', 'CHE', 'SIN', '015'], ['AI077', 'MUM', 'SIN', '050'], ['AI077', 'MUM', 'LON', '051'], ['SI267', 'MUM', 'SIN', '146']]\n"
     ]
    }
   ],
   "source": [
    "tl = []\n",
    "for ele in ticket_list:\n",
    "    t = list(ele.split(':'))\n",
    "    tl.append(t)\n",
    "print(tl)"
   ]
  },
  {
   "cell_type": "code",
   "execution_count": 26,
   "id": "3da97b3b",
   "metadata": {},
   "outputs": [],
   "source": [
    "def find_passengers_flight(name):\n",
    "    tot = 0\n",
    "    for l in tl:\n",
    "        if name in l[0]:\n",
    "            print(l[3])\n",
    "\n",
    "def find_passengers_destination(name):\n",
    "    for l in tl:\n",
    "        if name in l[2]:\n",
    "            print(l[3])\n",
    "\n",
    "    "
   ]
  },
  {
   "cell_type": "code",
   "execution_count": 27,
   "id": "94be0082",
   "metadata": {},
   "outputs": [
    {
     "name": "stdout",
     "output_type": "stream",
     "text": [
      "014\n",
      "056\n",
      "060\n",
      "015\n",
      "050\n",
      "051\n"
     ]
    }
   ],
   "source": [
    "find_passengers_flight(\"AI\")"
   ]
  },
  {
   "cell_type": "markdown",
   "id": "46f7d495",
   "metadata": {},
   "source": [
    "## Quick Sort"
   ]
  },
  {
   "cell_type": "code",
   "execution_count": 28,
   "id": "c750e2f0",
   "metadata": {},
   "outputs": [
    {
     "name": "stdout",
     "output_type": "stream",
     "text": [
      "Unsorted Array\n",
      "[8, 7, 6, 1, 0, 9, 2]\n",
      "Sorted Array in Ascending Order\n",
      "[0, 1, 2, 6, 7, 8, 9]\n"
     ]
    }
   ],
   "source": [
    "def partition (array,low,high):\n",
    "    pivot = array[high]\n",
    "    i = low - 1\n",
    "    for j in range(low,high):\n",
    "        if array[j] <= pivot:\n",
    "            i = i+1\n",
    "            (array[i],array[j])=(array[j],array[i])\n",
    "    #swap the pivot element with the greater specified element\n",
    "    (array[i+1],array[high]) = (array[high],array[i+1])\n",
    "    return i+1\n",
    "\n",
    "def quicksort(array,low,high):\n",
    "    if low<high:\n",
    "        pi = partition(array,low,high)\n",
    "        quicksort(array,low,pi-1)\n",
    "        quicksort(array,pi+1,high)\n",
    "    \n",
    "    \n",
    "data = [8,7,6,1,0,9,2]\n",
    "print(\"Unsorted Array\")\n",
    "print(data)\n",
    "size = len(data)\n",
    "quicksort(data,0,size-1)\n",
    "print(\"Sorted Array in Ascending Order\")\n",
    "print(data)"
   ]
  },
  {
   "cell_type": "markdown",
   "id": "5f2be387",
   "metadata": {},
   "source": [
    "Write a python program that accepts a text and displays a \n",
    "string which contains the word with the largest frequency\n",
    " in the text and the \n",
    "frequency itself separated by a space.\n",
    "Rules:\n",
    "The word should have the largest frequency.\n",
    "In case multiple words have the same frequency, then choose \n",
    "the word that has the maximum length.\n",
    "Assumptions:\n",
    "The text has no special characters other than space.\n",
    "The text would begin with a word and there will be only a \n",
    "single space between the words.\n",
    "Perform case insensitive string comparisons wherever \n",
    "necessary."
   ]
  },
  {
   "cell_type": "code",
   "execution_count": 36,
   "id": "5af3a4e9",
   "metadata": {},
   "outputs": [],
   "source": [
    "def word_largest_freq(sent):\n",
    "    dic = {}\n",
    "    l = list(sent.split())\n",
    "    for word in l:\n",
    "        dic[word] = l.count(word)\n",
    "    \n",
    "    m = max(list(dic.values()))\n",
    "    l = []\n",
    "    for (key,val) in dic.items():\n",
    "        if val == m:\n",
    "            l.append(key)\n",
    "    if len(l)==1:\n",
    "        print(l[0])\n",
    "    else:\n",
    "        print(max(l))"
   ]
  },
  {
   "cell_type": "code",
   "execution_count": 39,
   "id": "f9cd1355",
   "metadata": {},
   "outputs": [
    {
     "name": "stdout",
     "output_type": "stream",
     "text": [
      "good\n"
     ]
    }
   ],
   "source": [
    "word_largest_freq(\"good bad good\")"
   ]
  },
  {
   "cell_type": "markdown",
   "id": "5629c818",
   "metadata": {},
   "source": [
    "Write a python function, check_anagram() which accepts two \n",
    "strings and returns True, if one string is an anagram of \n",
    "another string. \n",
    "Otherwise returns False.\n",
    "The two strings are considered to be an anagram if they\n",
    " contain repeating characters but none of the characters repeat at the same position.\n",
    "The length of the strings should be the same."
   ]
  },
  {
   "cell_type": "code",
   "execution_count": 35,
   "id": "f008f3df",
   "metadata": {},
   "outputs": [],
   "source": [
    "def check_anagram(s1,s2):\n",
    "    s1_temp = sorted(s1)\n",
    "    s2_temp = sorted(s2)\n",
    "    if s1_temp == s2_temp:\n",
    "        return True\n",
    "    else:\n",
    "        return False"
   ]
  },
  {
   "cell_type": "code",
   "execution_count": 36,
   "id": "b77fb807",
   "metadata": {},
   "outputs": [
    {
     "data": {
      "text/plain": [
       "True"
      ]
     },
     "execution_count": 36,
     "metadata": {},
     "output_type": "execute_result"
    }
   ],
   "source": [
    "check_anagram('study','dusty')"
   ]
  },
  {
   "cell_type": "markdown",
   "id": "759181ef",
   "metadata": {},
   "source": [
    "The number, 197, is called a circular prime because all\n",
    " rotations of the digits: 197, 971, and 719, are themselves\n",
    " prime.\n",
    "\n",
    "There are thirteen such primes below 100: 2, 3, 5, 7, 11, \n",
    "13, 17, 31, 37, 71, 73, 79, and 97.\n",
    "\n",
    "Write a python program to find and display the number of \n",
    "circular primes less than the given limit."
   ]
  },
  {
   "cell_type": "code",
   "execution_count": 76,
   "id": "d7977e0a",
   "metadata": {},
   "outputs": [
    {
     "name": "stdout",
     "output_type": "stream",
     "text": [
      "Enter a Range199\n",
      "1\n",
      "2\n",
      "3\n",
      "5\n",
      "7\n",
      "11\n",
      "13\n",
      "17\n",
      "31\n",
      "37\n",
      "71\n",
      "73\n",
      "79\n",
      "97\n",
      "113\n",
      "131\n",
      "199\n"
     ]
    }
   ],
   "source": [
    "from itertools import permutations\n",
    "def primecheck(n):\n",
    "    for i in range(2,int((n**0.5))+1):\n",
    "        if n%i==0:\n",
    "            return 0\n",
    "    return n\n",
    "\n",
    "def cprime(n):\n",
    "    n1 = list(permutations(str(n)))\n",
    "    for ele in n1:\n",
    "        res = ''.join(ele)\n",
    "        if primecheck(int(res))==0:\n",
    "            return 0\n",
    "    return 1\n",
    "\n",
    "if __name__=='__main__':\n",
    "    n = int(input(\"Enter a Range\"))\n",
    "    for i in range(1,n+1):\n",
    "        if cprime(i)==1:\n",
    "            print(i)"
   ]
  },
  {
   "cell_type": "code",
   "execution_count": 64,
   "id": "b611ef64",
   "metadata": {},
   "outputs": [
    {
     "ename": "TypeError",
     "evalue": "<lambda>() missing 2 required positional arguments: 'b' and 'c'",
     "output_type": "error",
     "traceback": [
      "\u001b[1;31m---------------------------------------------------------------------------\u001b[0m",
      "\u001b[1;31mTypeError\u001b[0m                                 Traceback (most recent call last)",
      "\u001b[1;32m<ipython-input-64-0e5b3955067a>\u001b[0m in \u001b[0;36m<module>\u001b[1;34m\u001b[0m\n\u001b[1;32m----> 1\u001b[1;33m \u001b[0mcprime\u001b[0m\u001b[1;33m(\u001b[0m\u001b[1;36m123\u001b[0m\u001b[1;33m)\u001b[0m\u001b[1;33m\u001b[0m\u001b[1;33m\u001b[0m\u001b[0m\n\u001b[0m",
      "\u001b[1;32m<ipython-input-63-d165aae16077>\u001b[0m in \u001b[0;36mcprime\u001b[1;34m(n)\u001b[0m\n\u001b[0;32m      9\u001b[0m     \u001b[0mn\u001b[0m \u001b[1;33m=\u001b[0m \u001b[0mlist\u001b[0m\u001b[1;33m(\u001b[0m\u001b[0mpermutations\u001b[0m\u001b[1;33m(\u001b[0m\u001b[0mstr\u001b[0m\u001b[1;33m(\u001b[0m\u001b[0mn\u001b[0m\u001b[1;33m)\u001b[0m\u001b[1;33m)\u001b[0m\u001b[1;33m)\u001b[0m\u001b[1;33m\u001b[0m\u001b[1;33m\u001b[0m\u001b[0m\n\u001b[0;32m     10\u001b[0m     \u001b[0mk\u001b[0m \u001b[1;33m=\u001b[0m \u001b[1;32mlambda\u001b[0m \u001b[0ma\u001b[0m\u001b[1;33m,\u001b[0m\u001b[0mb\u001b[0m\u001b[1;33m,\u001b[0m\u001b[0mc\u001b[0m \u001b[1;33m:\u001b[0m \u001b[0mint\u001b[0m\u001b[1;33m(\u001b[0m\u001b[0ma\u001b[0m\u001b[1;33m+\u001b[0m\u001b[0mb\u001b[0m\u001b[1;33m+\u001b[0m\u001b[0mc\u001b[0m\u001b[1;33m)\u001b[0m\u001b[1;33m\u001b[0m\u001b[1;33m\u001b[0m\u001b[0m\n\u001b[1;32m---> 11\u001b[1;33m     \u001b[0mres\u001b[0m \u001b[1;33m=\u001b[0m \u001b[0mlist\u001b[0m\u001b[1;33m(\u001b[0m\u001b[0mmap\u001b[0m\u001b[1;33m(\u001b[0m\u001b[0mk\u001b[0m\u001b[1;33m,\u001b[0m\u001b[1;33m(\u001b[0m\u001b[0mele\u001b[0m \u001b[1;32mfor\u001b[0m \u001b[0mele\u001b[0m \u001b[1;32min\u001b[0m \u001b[0mn\u001b[0m\u001b[1;33m)\u001b[0m\u001b[1;33m)\u001b[0m\u001b[1;33m)\u001b[0m\u001b[1;33m\u001b[0m\u001b[1;33m\u001b[0m\u001b[0m\n\u001b[0m\u001b[0;32m     12\u001b[0m     \u001b[0mprint\u001b[0m\u001b[1;33m(\u001b[0m\u001b[0mres\u001b[0m\u001b[1;33m)\u001b[0m\u001b[1;33m\u001b[0m\u001b[1;33m\u001b[0m\u001b[0m\n",
      "\u001b[1;31mTypeError\u001b[0m: <lambda>() missing 2 required positional arguments: 'b' and 'c'"
     ]
    }
   ],
   "source": []
  },
  {
   "cell_type": "code",
   "execution_count": null,
   "id": "74bffa3a",
   "metadata": {},
   "outputs": [],
   "source": []
  }
 ],
 "metadata": {
  "kernelspec": {
   "display_name": "Python 3",
   "language": "python",
   "name": "python3"
  },
  "language_info": {
   "codemirror_mode": {
    "name": "ipython",
    "version": 3
   },
   "file_extension": ".py",
   "mimetype": "text/x-python",
   "name": "python",
   "nbconvert_exporter": "python",
   "pygments_lexer": "ipython3",
   "version": "3.8.8"
  }
 },
 "nbformat": 4,
 "nbformat_minor": 5
}
