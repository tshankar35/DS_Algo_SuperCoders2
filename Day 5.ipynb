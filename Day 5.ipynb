{
 "cells": [
  {
   "cell_type": "markdown",
   "id": "ed14ca8d",
   "metadata": {},
   "source": [
    "# Day 5\n",
    "## Odd Even Queue\n",
    "\n",
    "Divide a Queue into Odd and Even Queue\n",
    "\n",
    "2 7 9 4 6 5 10\n",
    "\n",
    ">Odd:\n",
    "7 9 5\n",
    "\n",
    ">Even:\n",
    "2 4 6 10"
   ]
  },
  {
   "cell_type": "code",
   "execution_count": 73,
   "id": "a548bd2b",
   "metadata": {},
   "outputs": [],
   "source": [
    "class Queue:\n",
    "    def __init__(self,size):\n",
    "        self.__max_size = size\n",
    "        self.__front = 0\n",
    "        self.__rear = -1\n",
    "        self.__q=[None]*self.__max_size\n",
    "        \n",
    "    def isfull(self):\n",
    "        if self.__rear == self.__max_size-1:\n",
    "            return True\n",
    "        return False\n",
    "    \n",
    "    def isempty(self):\n",
    "        if self.__front>self.__rear:\n",
    "            return True\n",
    "        return False\n",
    "    \n",
    "    def enqueue(self,element):\n",
    "        if self.isfull():\n",
    "            print(\"Queue Full\")\n",
    "        else:\n",
    "            self.__rear+=1\n",
    "            self.__q[self.__rear]=element\n",
    "            \n",
    "    def dequeue(self):\n",
    "        if self.isempty():\n",
    "            print(\"Queue Empty\")\n",
    "        else:\n",
    "            element = self.__q[self.__front]\n",
    "            self.__front+=1\n",
    "            return element\n",
    "    \n",
    "    def len_queue(self):\n",
    "        temp = self.__front\n",
    "        cnt = 1\n",
    "        while temp<self.__rear:\n",
    "            temp+=1\n",
    "            cnt+=1\n",
    "        return cnt\n",
    "\n",
    "    def print_que(self):\n",
    "        if self.isempty():\n",
    "            print(\"\")\n",
    "        return self.__q[self.__front:self.__rear+1]"
   ]
  },
  {
   "cell_type": "code",
   "execution_count": 74,
   "id": "232eede4",
   "metadata": {},
   "outputs": [],
   "source": [
    "ip = Queue(8)"
   ]
  },
  {
   "cell_type": "code",
   "execution_count": 75,
   "id": "72fab79c",
   "metadata": {},
   "outputs": [],
   "source": [
    "ip.enqueue(2)\n",
    "ip.enqueue(7)\n",
    "ip.enqueue(9)\n",
    "ip.enqueue(4)\n",
    "ip.enqueue(6)\n",
    "ip.enqueue(5)\n",
    "ip.enqueue(10)"
   ]
  },
  {
   "cell_type": "code",
   "execution_count": 76,
   "id": "8aed4424",
   "metadata": {},
   "outputs": [],
   "source": [
    "eq = Queue(10)\n",
    "oq = Queue(10)"
   ]
  },
  {
   "cell_type": "code",
   "execution_count": 77,
   "id": "2dd3f373",
   "metadata": {},
   "outputs": [],
   "source": [
    "for i in range(ip.len_queue()):\n",
    "    ele = ip.dequeue()\n",
    "    if ele%2==0:\n",
    "        eq.enqueue(ele)\n",
    "    else:\n",
    "        oq.enqueue(ele)"
   ]
  },
  {
   "cell_type": "code",
   "execution_count": 78,
   "id": "067ab6ae",
   "metadata": {},
   "outputs": [
    {
     "data": {
      "text/plain": [
       "[2, 4, 6, 10]"
      ]
     },
     "execution_count": 78,
     "metadata": {},
     "output_type": "execute_result"
    }
   ],
   "source": [
    "eq.print_que()"
   ]
  },
  {
   "cell_type": "code",
   "execution_count": 79,
   "id": "76d0c095",
   "metadata": {},
   "outputs": [
    {
     "data": {
      "text/plain": [
       "[7, 9, 5]"
      ]
     },
     "execution_count": 79,
     "metadata": {},
     "output_type": "execute_result"
    }
   ],
   "source": [
    "oq.print_que()"
   ]
  },
  {
   "cell_type": "markdown",
   "id": "b157fac7",
   "metadata": {},
   "source": [
    "Write a python function which accepts two linked lists containing integer data and an integer, n and merges the two linked lists, such that ;ost2 is merged with list1 after n number of nodes. \n",
    "Assume that value of n will always be less than or equal to the number of nodes in list1\n",
    "\n",
    "> Sample Input \n",
    "\n",
    "\n",
    "    - list1 = 1 -> 2 -> 4 -> 3 -> 5\n",
    "    \n",
    "    - list2 = 9 -> 8 -> 11\n",
    "    \n",
    ">Expected Output\n",
    "    \n",
    "    \n",
    "    - n = 2\n",
    "    - 1 -> 2 -> 9 -> 8 -> 11 -> 4 -> 3 -> 5"
   ]
  },
  {
   "cell_type": "code",
   "execution_count": 133,
   "id": "b93e9d59",
   "metadata": {},
   "outputs": [],
   "source": [
    "class Node:\n",
    "    def __init__(self,data):\n",
    "        self.data = data\n",
    "        self.next = None\n",
    "\n",
    "class LinkedList:\n",
    "    def __init__(self):\n",
    "        self.head = None\n",
    "    \n",
    "    def addtoend(self,node):\n",
    "        if self.head is None:\n",
    "            self.head = node\n",
    "            return\n",
    "        temp = self.head\n",
    "        while temp.next is not None:\n",
    "            temp = temp.next\n",
    "        temp.next = node\n",
    "    \n",
    "    def printlist(self):\n",
    "        temp = self.head\n",
    "        while temp is not None:\n",
    "            print(temp.data)\n",
    "            temp = temp.next\n",
    "    \n",
    "    def merge_idx(self,idx,ll1,ll2):\n",
    "        cnt = 0\n",
    "        ll1 = ll1.head\n",
    "        ll2 = ll2.head\n",
    "        while cnt<idx:\n",
    "            self.addtoend(Node(ll1.data))\n",
    "            ll1 = ll1.next\n",
    "            cnt+=1\n",
    "        while ll2 is not None:\n",
    "            self.addtoend(Node(ll2.data))\n",
    "            ll2 = ll2.next\n",
    "        while ll1 is not None:\n",
    "            self.addtoend(Node(ll1.data))\n",
    "            ll1 = ll1.next"
   ]
  },
  {
   "cell_type": "code",
   "execution_count": 136,
   "id": "dd87567f",
   "metadata": {},
   "outputs": [
    {
     "name": "stdout",
     "output_type": "stream",
     "text": [
      "1\n",
      "2\n",
      "9\n",
      "8\n",
      "11\n",
      "4\n",
      "3\n",
      "5\n"
     ]
    }
   ],
   "source": [
    "ll1 = LinkedList()\n",
    "ll2 = LinkedList()\n",
    "ll3 = LinkedList()\n",
    "ll1.addtoend(Node(1))\n",
    "ll1.addtoend(Node(2))\n",
    "ll1.addtoend(Node(4))\n",
    "ll1.addtoend(Node(3))\n",
    "ll1.addtoend(Node(5))\n",
    "ll2.addtoend(Node(9))\n",
    "ll2.addtoend(Node(8))\n",
    "ll2.addtoend(Node(11))\n",
    "ll3.merge_idx(2,ll1,ll2)\n",
    "ll3.printlist()"
   ]
  },
  {
   "cell_type": "markdown",
   "id": "887f9104",
   "metadata": {},
   "source": [
    "Original List\n",
    "12\n",
    "95\n",
    "140\n",
    "110\n",
    "40\n",
    "\n",
    "\n",
    "New List\n",
    "12\n",
    "95\n",
    "100\n",
    "110\n",
    "40"
   ]
  },
  {
   "cell_type": "code",
   "execution_count": 145,
   "id": "7b5d5b2e",
   "metadata": {},
   "outputs": [],
   "source": [
    "class Node:\n",
    "    def __init__(self,data):\n",
    "        self.data = data\n",
    "        self.next = None\n",
    "\n",
    "class LinkedList:\n",
    "    def __init__(self):\n",
    "        self.head = None\n",
    "    \n",
    "    def addtoend(self,node):\n",
    "        if self.head is None:\n",
    "            self.head = node\n",
    "            return\n",
    "        temp = self.head\n",
    "        while temp.next is not None:\n",
    "            temp = temp.next\n",
    "        temp.next = node\n",
    "    \n",
    "    def printlist(self):\n",
    "        temp = self.head\n",
    "        while temp is not None:\n",
    "            print(temp.data)\n",
    "            temp = temp.next\n",
    "    \n",
    "    def middle_key(self,key,m):\n",
    "        if self.head == None:\n",
    "            self.head = Node(key)\n",
    "            return\n",
    "        temp = self.head\n",
    "        node = Node(key)\n",
    "        while temp is not None:\n",
    "            if temp.data == m:\n",
    "                node.next = temp.next\n",
    "                temp.next = node\n",
    "                break\n",
    "            temp = temp.next  \n",
    "            \n",
    "    def removenode_key(self,key):\n",
    "        headval = self.head\n",
    "        \n",
    "        if headval is not None:\n",
    "            if headval.data==key:\n",
    "                self.head = headval.next\n",
    "                headval=None\n",
    "                return\n",
    "        \n",
    "        while headval is not None:\n",
    "            if headval.data == key:\n",
    "                break\n",
    "            prev = headval\n",
    "            headval = headval.next\n",
    "            \n",
    "        if headval == None:\n",
    "            return\n",
    "        \n",
    "        prev.next = headval.next\n",
    "        headval = None\n",
    "        \n",
    "    def replace_max_key(self,key):\n",
    "        temp = self.head\n",
    "        m = -1\n",
    "        while temp is not None:\n",
    "            if temp.data > m:\n",
    "                m = temp.data\n",
    "            temp = temp.next\n",
    "        self.middle_key(key,m)\n",
    "        self.removenode_key(m)\n",
    "    \n",
    "    \n",
    "        "
   ]
  },
  {
   "cell_type": "code",
   "execution_count": 146,
   "id": "7f5610f0",
   "metadata": {},
   "outputs": [
    {
     "name": "stdout",
     "output_type": "stream",
     "text": [
      "12\n",
      "95\n",
      "100\n",
      "110\n",
      "40\n"
     ]
    }
   ],
   "source": [
    "ll = LinkedList()\n",
    "ll.addtoend(Node(12))\n",
    "ll.addtoend(Node(95))\n",
    "ll.addtoend(Node(140))\n",
    "ll.addtoend(Node(110))\n",
    "ll.addtoend(Node(40))\n",
    "ll.replace_max_key(100)\n",
    "ll.printlist()"
   ]
  },
  {
   "cell_type": "code",
   "execution_count": 154,
   "id": "f51dfb18",
   "metadata": {},
   "outputs": [],
   "source": [
    "class People:\n",
    "    def __init__(self,name,age,gender):\n",
    "        self.name = name\n",
    "        self.age = age\n",
    "        self.gender = gender\n",
    "class Queue:\n",
    "    def __init__(self,size):\n",
    "        self.__max_size = size\n",
    "        self.__front = 0\n",
    "        self.__rear = -1\n",
    "        self.__q=[None]*self.__max_size\n",
    "        \n",
    "    def isfull(self):\n",
    "        if self.__rear == self.__max_size-1:\n",
    "            return True\n",
    "        return False\n",
    "    \n",
    "    def isempty(self):\n",
    "        if self.__front>self.__rear:\n",
    "            return True\n",
    "        return False\n",
    "    \n",
    "    def enqueue(self,element):\n",
    "        if self.isfull():\n",
    "            print(\"Queue Full\")\n",
    "        else:\n",
    "            self.__rear+=1\n",
    "            self.__q[self.__rear]=element\n",
    "            \n",
    "    def dequeue(self):\n",
    "        if self.isempty():\n",
    "            print(\"Queue Empty\")\n",
    "        else:\n",
    "            element = self.__q[self.__front]\n",
    "            self.__front+=1\n",
    "            return element\n",
    "    \n",
    "    def get_female(self):\n",
    "        temp = self.__front\n",
    "        cnt = 0\n",
    "        while temp<=self.__rear:\n",
    "            data = self.__q[temp]\n",
    "            if data.gender == 'Female':\n",
    "                print(data.name,\" \",data.age,\" \",data.gender)\n",
    "                cnt+=1\n",
    "            temp+=1    \n",
    "        return cnt\n",
    "    def get_male(self):\n",
    "        temp = self.__front\n",
    "        cnt = 0\n",
    "        while temp<=self.__rear:\n",
    "            data = self.__q[temp]\n",
    "            if data.gender == 'Male':\n",
    "                print(data.name,\" \",data.age,\" \",data.gender)\n",
    "                cnt+=1\n",
    "            temp+=1    \n",
    "        return cnt\n",
    "\n",
    "    def print_que(self):\n",
    "        if self.isempty():\n",
    "            print(\"\")\n",
    "        return self.__q[self.__front:self.__rear+1]"
   ]
  },
  {
   "cell_type": "code",
   "execution_count": 155,
   "id": "994fb731",
   "metadata": {},
   "outputs": [],
   "source": [
    "Q = Queue(5)\n",
    "Q.enqueue(People('Asha','27','Female'))\n",
    "Q.enqueue(People('Tina','27','Female'))\n",
    "Q.enqueue(People('Rajesh','27','Male'))\n",
    "Q.enqueue(People('Ashad','24','Male'))\n",
    "Q.enqueue(People('Tanay','31','Male'))"
   ]
  },
  {
   "cell_type": "code",
   "execution_count": 156,
   "id": "86384f84",
   "metadata": {},
   "outputs": [
    {
     "name": "stdout",
     "output_type": "stream",
     "text": [
      "Asha   27   Female\n",
      "Tina   27   Female\n"
     ]
    },
    {
     "data": {
      "text/plain": [
       "2"
      ]
     },
     "execution_count": 156,
     "metadata": {},
     "output_type": "execute_result"
    }
   ],
   "source": [
    "Q.get_female()"
   ]
  },
  {
   "cell_type": "code",
   "execution_count": 157,
   "id": "40001575",
   "metadata": {},
   "outputs": [
    {
     "name": "stdout",
     "output_type": "stream",
     "text": [
      "Rajesh   27   Male\n",
      "Ashad   24   Male\n",
      "Tanay   31   Male\n"
     ]
    },
    {
     "data": {
      "text/plain": [
       "3"
      ]
     },
     "execution_count": 157,
     "metadata": {},
     "output_type": "execute_result"
    }
   ],
   "source": [
    "Q.get_male()"
   ]
  },
  {
   "cell_type": "code",
   "execution_count": 23,
   "id": "44f4eb9c",
   "metadata": {},
   "outputs": [],
   "source": [
    "class Queue:\n",
    "    def __init__(self,size):\n",
    "        self.__max_size = size\n",
    "        self.__front = 0\n",
    "        self.__rear = -1\n",
    "        self.__q=[None]*self.__max_size\n",
    "        \n",
    "    def isfull(self):\n",
    "        if self.__rear == self.__max_size-1:\n",
    "            return True\n",
    "        return False\n",
    "    \n",
    "    def isempty(self):\n",
    "        if self.__front>self.__rear:\n",
    "            return True\n",
    "        return False\n",
    "    \n",
    "    def enqueue(self,element):\n",
    "        if self.isfull():\n",
    "            return \"Full\"\n",
    "        else:\n",
    "            self.__rear+=1\n",
    "            self.__q[self.__rear]=element\n",
    "            \n",
    "    def dequeue(self):\n",
    "        if self.isempty():\n",
    "            return \"Empty\"\n",
    "        else:\n",
    "            element = self.__q[self.__front]\n",
    "            self.__front+=1\n",
    "            return element\n",
    "    \n",
    "    def frontele(self):\n",
    "        return self.__q[self.__front]\n",
    "    \n",
    "    def display(self):\n",
    "        if self.isempty():\n",
    "            return \"Empty\"\n",
    "        else:\n",
    "            return self.__q[self.__front:self.__rear+1]"
   ]
  },
  {
   "cell_type": "code",
   "execution_count": 47,
   "id": "db970430",
   "metadata": {},
   "outputs": [],
   "source": [
    "class Stack:\n",
    "    def __init__(self,size):\n",
    "        self.__max_size = size\n",
    "        self.__top = -1\n",
    "        self.__stack = [None]*self.__max_size\n",
    "        \n",
    "    def isfull(self):\n",
    "        if self.__top == self.__max_size-1:\n",
    "            return True\n",
    "        return False\n",
    "    \n",
    "    def isempty(self):\n",
    "        if self.__top == -1:\n",
    "            return True\n",
    "        return False\n",
    "    \n",
    "    def push(self,ele):\n",
    "        if self.isfull():\n",
    "            print( \"Full Stack\")\n",
    "        self.__top+=1\n",
    "        self.__stack[self.__top]=ele\n",
    "    \n",
    "    def pop(self):\n",
    "        if self.isempty():\n",
    "            return \"Empty Stack\"\n",
    "        element = self.__stack[self.__top]\n",
    "        self.__top-=1\n",
    "    \n",
    "    def display(self):\n",
    "        if self.isempty():\n",
    "            return \"Empty\"\n",
    "        print(self.__stack[self.__top::-1])"
   ]
  },
  {
   "cell_type": "code",
   "execution_count": 48,
   "id": "1b4cc616",
   "metadata": {},
   "outputs": [],
   "source": [
    "Q = Queue(10)\n",
    "Q.enqueue(7)\n",
    "Q.enqueue(28)\n",
    "Q.enqueue(8)\n",
    "Q.enqueue(35)\n",
    "Q.enqueue(3)\n",
    "Q.enqueue(6)\n",
    "Q.enqueue(5)\n",
    "Q.enqueue(15)\n",
    "Q.enqueue(2)\n",
    "Q.enqueue(5)\n",
    "S = Stack(10)"
   ]
  },
  {
   "cell_type": "code",
   "execution_count": 50,
   "id": "b094eaf2",
   "metadata": {},
   "outputs": [],
   "source": [
    "\n",
    "while Q.isempty()!=True:\n",
    "    ele1 = Q.dequeue()\n",
    "    ele2 = Q.dequeue()\n",
    "    triangle = ele1*(ele1+1)//2\n",
    "    if triangle == ele2:\n",
    "        S.push(ele2)\n",
    "    S.display()"
   ]
  },
  {
   "cell_type": "code",
   "execution_count": 41,
   "id": "cb45c41d",
   "metadata": {},
   "outputs": [
    {
     "ename": "NameError",
     "evalue": "name 'trianglenumber' is not defined",
     "output_type": "error",
     "traceback": [
      "\u001b[1;31m---------------------------------------------------------------------------\u001b[0m",
      "\u001b[1;31mNameError\u001b[0m                                 Traceback (most recent call last)",
      "\u001b[1;32m<ipython-input-41-42c4488515e5>\u001b[0m in \u001b[0;36m<module>\u001b[1;34m\u001b[0m\n\u001b[1;32m----> 1\u001b[1;33m \u001b[0mtrianglenumber\u001b[0m\u001b[1;33m(\u001b[0m\u001b[1;33m)\u001b[0m\u001b[1;33m\u001b[0m\u001b[1;33m\u001b[0m\u001b[0m\n\u001b[0m",
      "\u001b[1;31mNameError\u001b[0m: name 'trianglenumber' is not defined"
     ]
    }
   ],
   "source": [
    "trianglenumber()"
   ]
  },
  {
   "cell_type": "code",
   "execution_count": 42,
   "id": "2c56c255",
   "metadata": {},
   "outputs": [
    {
     "data": {
      "text/plain": [
       "'Empty'"
      ]
     },
     "execution_count": 42,
     "metadata": {},
     "output_type": "execute_result"
    }
   ],
   "source": [
    "Q.display()"
   ]
  },
  {
   "cell_type": "code",
   "execution_count": 43,
   "id": "cb3b216e",
   "metadata": {},
   "outputs": [
    {
     "name": "stdout",
     "output_type": "stream",
     "text": [
      "[None, None, None]\n"
     ]
    }
   ],
   "source": [
    "S.display()"
   ]
  },
  {
   "cell_type": "code",
   "execution_count": 30,
   "id": "4e4d0fa1",
   "metadata": {},
   "outputs": [
    {
     "data": {
      "text/plain": [
       "False"
      ]
     },
     "execution_count": 30,
     "metadata": {},
     "output_type": "execute_result"
    }
   ],
   "source": [
    "Q.isempty()"
   ]
  },
  {
   "cell_type": "code",
   "execution_count": null,
   "id": "8f744b36",
   "metadata": {},
   "outputs": [],
   "source": []
  }
 ],
 "metadata": {
  "kernelspec": {
   "display_name": "Python 3",
   "language": "python",
   "name": "python3"
  },
  "language_info": {
   "codemirror_mode": {
    "name": "ipython",
    "version": 3
   },
   "file_extension": ".py",
   "mimetype": "text/x-python",
   "name": "python",
   "nbconvert_exporter": "python",
   "pygments_lexer": "ipython3",
   "version": "3.8.8"
  }
 },
 "nbformat": 4,
 "nbformat_minor": 5
}
